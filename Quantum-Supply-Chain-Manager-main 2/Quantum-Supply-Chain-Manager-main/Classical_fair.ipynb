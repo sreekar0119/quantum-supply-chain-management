{
 "cells": [
  {
   "cell_type": "code",
   "execution_count": 2,
   "metadata": {},
   "outputs": [
    {
     "name": "stdout",
     "output_type": "stream",
     "text": [
      "Requirement already satisfied: pip in /Users/charan/anaconda3/lib/python3.10/site-packages (23.1.2)\n",
      "\u001b[33mWARNING: Skipping tensorflow as it is not installed.\u001b[0m\u001b[33m\n",
      "\u001b[0mCollecting tensorflow\n",
      "  Using cached tensorflow-2.13.0rc2-cp310-cp310-macosx_12_0_arm64.whl (2.0 kB)\n",
      "Collecting tensorflow-macos==2.13.0-rc2 (from tensorflow)\n",
      "  Downloading tensorflow_macos-2.13.0rc2-cp310-cp310-macosx_12_0_arm64.whl (189.3 MB)\n",
      "\u001b[2K     \u001b[91m╸\u001b[0m\u001b[90m━━━━━━━━━━━━━━━━━━━━━━━━━━━━━━━━━━━━━━━\u001b[0m \u001b[32m3.2/189.3 MB\u001b[0m \u001b[31m5.6 kB/s\u001b[0m eta \u001b[36m9:14:50\u001b[0mm\n",
      "\u001b[?25h\u001b[31mERROR: Exception:\n",
      "Traceback (most recent call last):\n",
      "  File \"/Users/charan/anaconda3/lib/python3.10/site-packages/pip/_vendor/urllib3/response.py\", line 438, in _error_catcher\n",
      "    yield\n",
      "  File \"/Users/charan/anaconda3/lib/python3.10/site-packages/pip/_vendor/urllib3/response.py\", line 561, in read\n",
      "    data = self._fp_read(amt) if not fp_closed else b\"\"\n",
      "  File \"/Users/charan/anaconda3/lib/python3.10/site-packages/pip/_vendor/urllib3/response.py\", line 527, in _fp_read\n",
      "    return self._fp.read(amt) if amt is not None else self._fp.read()\n",
      "  File \"/Users/charan/anaconda3/lib/python3.10/site-packages/pip/_vendor/cachecontrol/filewrapper.py\", line 90, in read\n",
      "    data = self.__fp.read(amt)\n",
      "  File \"/Users/charan/anaconda3/lib/python3.10/http/client.py\", line 465, in read\n",
      "    s = self.fp.read(amt)\n",
      "  File \"/Users/charan/anaconda3/lib/python3.10/socket.py\", line 705, in readinto\n",
      "    return self._sock.recv_into(b)\n",
      "  File \"/Users/charan/anaconda3/lib/python3.10/ssl.py\", line 1274, in recv_into\n",
      "    return self.read(nbytes, buffer)\n",
      "  File \"/Users/charan/anaconda3/lib/python3.10/ssl.py\", line 1130, in read\n",
      "    return self._sslobj.read(len, buffer)\n",
      "TimeoutError: The read operation timed out\n",
      "\n",
      "During handling of the above exception, another exception occurred:\n",
      "\n",
      "Traceback (most recent call last):\n",
      "  File \"/Users/charan/anaconda3/lib/python3.10/site-packages/pip/_internal/cli/base_command.py\", line 169, in exc_logging_wrapper\n",
      "    status = run_func(*args)\n",
      "  File \"/Users/charan/anaconda3/lib/python3.10/site-packages/pip/_internal/cli/req_command.py\", line 248, in wrapper\n",
      "    return func(self, options, args)\n",
      "  File \"/Users/charan/anaconda3/lib/python3.10/site-packages/pip/_internal/commands/install.py\", line 377, in run\n",
      "    requirement_set = resolver.resolve(\n",
      "  File \"/Users/charan/anaconda3/lib/python3.10/site-packages/pip/_internal/resolution/resolvelib/resolver.py\", line 92, in resolve\n",
      "    result = self._result = resolver.resolve(\n",
      "  File \"/Users/charan/anaconda3/lib/python3.10/site-packages/pip/_vendor/resolvelib/resolvers.py\", line 546, in resolve\n",
      "    state = resolution.resolve(requirements, max_rounds=max_rounds)\n",
      "  File \"/Users/charan/anaconda3/lib/python3.10/site-packages/pip/_vendor/resolvelib/resolvers.py\", line 427, in resolve\n",
      "    failure_causes = self._attempt_to_pin_criterion(name)\n",
      "  File \"/Users/charan/anaconda3/lib/python3.10/site-packages/pip/_vendor/resolvelib/resolvers.py\", line 239, in _attempt_to_pin_criterion\n",
      "    criteria = self._get_updated_criteria(candidate)\n",
      "  File \"/Users/charan/anaconda3/lib/python3.10/site-packages/pip/_vendor/resolvelib/resolvers.py\", line 230, in _get_updated_criteria\n",
      "    self._add_to_criteria(criteria, requirement, parent=candidate)\n",
      "  File \"/Users/charan/anaconda3/lib/python3.10/site-packages/pip/_vendor/resolvelib/resolvers.py\", line 173, in _add_to_criteria\n",
      "    if not criterion.candidates:\n",
      "  File \"/Users/charan/anaconda3/lib/python3.10/site-packages/pip/_vendor/resolvelib/structs.py\", line 156, in __bool__\n",
      "    return bool(self._sequence)\n",
      "  File \"/Users/charan/anaconda3/lib/python3.10/site-packages/pip/_internal/resolution/resolvelib/found_candidates.py\", line 155, in __bool__\n",
      "    return any(self)\n",
      "  File \"/Users/charan/anaconda3/lib/python3.10/site-packages/pip/_internal/resolution/resolvelib/found_candidates.py\", line 143, in <genexpr>\n",
      "    return (c for c in iterator if id(c) not in self._incompatible_ids)\n",
      "  File \"/Users/charan/anaconda3/lib/python3.10/site-packages/pip/_internal/resolution/resolvelib/found_candidates.py\", line 47, in _iter_built\n",
      "    candidate = func()\n",
      "  File \"/Users/charan/anaconda3/lib/python3.10/site-packages/pip/_internal/resolution/resolvelib/factory.py\", line 206, in _make_candidate_from_link\n",
      "    self._link_candidate_cache[link] = LinkCandidate(\n",
      "  File \"/Users/charan/anaconda3/lib/python3.10/site-packages/pip/_internal/resolution/resolvelib/candidates.py\", line 293, in __init__\n",
      "    super().__init__(\n",
      "  File \"/Users/charan/anaconda3/lib/python3.10/site-packages/pip/_internal/resolution/resolvelib/candidates.py\", line 156, in __init__\n",
      "    self.dist = self._prepare()\n",
      "  File \"/Users/charan/anaconda3/lib/python3.10/site-packages/pip/_internal/resolution/resolvelib/candidates.py\", line 225, in _prepare\n",
      "    dist = self._prepare_distribution()\n",
      "  File \"/Users/charan/anaconda3/lib/python3.10/site-packages/pip/_internal/resolution/resolvelib/candidates.py\", line 304, in _prepare_distribution\n",
      "    return preparer.prepare_linked_requirement(self._ireq, parallel_builds=True)\n",
      "  File \"/Users/charan/anaconda3/lib/python3.10/site-packages/pip/_internal/operations/prepare.py\", line 516, in prepare_linked_requirement\n",
      "    return self._prepare_linked_requirement(req, parallel_builds)\n",
      "  File \"/Users/charan/anaconda3/lib/python3.10/site-packages/pip/_internal/operations/prepare.py\", line 587, in _prepare_linked_requirement\n",
      "    local_file = unpack_url(\n",
      "  File \"/Users/charan/anaconda3/lib/python3.10/site-packages/pip/_internal/operations/prepare.py\", line 166, in unpack_url\n",
      "    file = get_http_url(\n",
      "  File \"/Users/charan/anaconda3/lib/python3.10/site-packages/pip/_internal/operations/prepare.py\", line 107, in get_http_url\n",
      "    from_path, content_type = download(link, temp_dir.path)\n",
      "  File \"/Users/charan/anaconda3/lib/python3.10/site-packages/pip/_internal/network/download.py\", line 147, in __call__\n",
      "    for chunk in chunks:\n",
      "  File \"/Users/charan/anaconda3/lib/python3.10/site-packages/pip/_internal/cli/progress_bars.py\", line 53, in _rich_progress_bar\n",
      "    for chunk in iterable:\n",
      "  File \"/Users/charan/anaconda3/lib/python3.10/site-packages/pip/_internal/network/utils.py\", line 63, in response_chunks\n",
      "    for chunk in response.raw.stream(\n",
      "  File \"/Users/charan/anaconda3/lib/python3.10/site-packages/pip/_vendor/urllib3/response.py\", line 622, in stream\n",
      "    data = self.read(amt=amt, decode_content=decode_content)\n",
      "  File \"/Users/charan/anaconda3/lib/python3.10/site-packages/pip/_vendor/urllib3/response.py\", line 560, in read\n",
      "    with self._error_catcher():\n",
      "  File \"/Users/charan/anaconda3/lib/python3.10/contextlib.py\", line 153, in __exit__\n",
      "    self.gen.throw(typ, value, traceback)\n",
      "  File \"/Users/charan/anaconda3/lib/python3.10/site-packages/pip/_vendor/urllib3/response.py\", line 443, in _error_catcher\n",
      "    raise ReadTimeoutError(self._pool, None, \"Read timed out.\")\n",
      "pip._vendor.urllib3.exceptions.ReadTimeoutError: HTTPSConnectionPool(host='files.pythonhosted.org', port=443): Read timed out.\u001b[0m\u001b[31m\n",
      "\u001b[0m"
     ]
    }
   ],
   "source": [
    "!pip install --upgrade pip\n",
    "!pip uninstall tensorflow --y\n",
    "!pip install tensorflow"
   ]
  },
  {
   "cell_type": "code",
   "execution_count": 3,
   "metadata": {},
   "outputs": [],
   "source": [
    "import os\n",
    "os.environ['TF_CPP_MIN_LOG_LEVEL'] = '2'\n",
    "os.environ['CUDA_VISIBLE_DEVICES'] = '-1'"
   ]
  },
  {
   "cell_type": "code",
   "execution_count": 4,
   "metadata": {},
   "outputs": [],
   "source": [
    "import pandas as pd \n",
    "import numpy as np\n",
    "import tensorflow as tf\n",
    "from keras.regularizers import l2\n",
    "from keras.models import Sequential\n",
    "from keras.layers import Dense, Dropout\n",
    "\n",
    "\n",
    "from tensorflow.keras.utils import plot_model\n",
    "\n",
    "\n",
    "import matplotlib.pyplot as plt\n",
    "%matplotlib inline  \n",
    "import seaborn as sns\n",
    "\n",
    "from sklearn.metrics import confusion_matrix, roc_curve, auc\n",
    "from sklearn.preprocessing import StandardScaler\n",
    "\n",
    "from sklearn.metrics import precision_score\n",
    "from sklearn.metrics import recall_score\n",
    "from sklearn.metrics import f1_score\n",
    "from sklearn.metrics import cohen_kappa_score\n",
    "from sklearn.metrics import roc_auc_score\n",
    "\n",
    "import warnings\n",
    "warnings.filterwarnings(\"ignore\", category=DeprecationWarning) "
   ]
  },
  {
   "cell_type": "code",
   "execution_count": 6,
   "metadata": {},
   "outputs": [
    {
     "data": {
      "text/plain": [
       "(((2000, 16), (2000,)), ((6159, 16), (6159,)))"
      ]
     },
     "execution_count": 6,
     "metadata": {},
     "output_type": "execute_result"
    }
   ],
   "source": [
    "data_train = pd.read_csv(\"/Users/charan/Downloads/Quantum-Supply-Chain-Manager-main/dataset/fair_train.csv\")\n",
    "X_train,y_train = data_train[data_train.columns[:16]].values, data_train[data_train.columns[16]].values\n",
    "\n",
    "data_test = pd.read_csv(\"/Users/charan/Downloads/Quantum-Supply-Chain-Manager-main/dataset/classic_test.csv\")\n",
    "X_test,y_test = data_test[data_test.columns[:16]].values, data_test[data_test.columns[16]].values\n",
    "\n",
    "(X_train.shape, y_train.shape),(X_test.shape, y_test.shape)"
   ]
  },
  {
   "cell_type": "markdown",
   "metadata": {},
   "source": [
    "###### Random seed for reproducibility\n",
    "\n",
    "In the same case of reproducing the code it is important to consider the numpy seed, for this purpose the following cell is used"
   ]
  },
  {
   "cell_type": "code",
   "execution_count": 7,
   "metadata": {},
   "outputs": [],
   "source": [
    "np.random.seed(123)\n",
    "tf.random.set_seed(123)"
   ]
  },
  {
   "cell_type": "markdown",
   "metadata": {},
   "source": [
    "For neuran networks is important to normalize and check the distribution of the variables for that exist the variable StandarScaler that \n",
    "    - Scaling by Normalization or min-max scaling\n",
    "    - Scaling by mean and standard deviation or standardization\n",
    "    \n",
    "1. StandardScaler is a function used to standardize the data .\n",
    "2. Standardized value for x is computed as (x-mean(column))/standard deviation(column). "
   ]
  },
  {
   "cell_type": "code",
   "execution_count": 8,
   "metadata": {},
   "outputs": [],
   "source": [
    "scale = StandardScaler()"
   ]
  },
  {
   "cell_type": "code",
   "execution_count": 9,
   "metadata": {},
   "outputs": [
    {
     "data": {
      "text/html": [
       "<style>#sk-container-id-1 {color: black;background-color: white;}#sk-container-id-1 pre{padding: 0;}#sk-container-id-1 div.sk-toggleable {background-color: white;}#sk-container-id-1 label.sk-toggleable__label {cursor: pointer;display: block;width: 100%;margin-bottom: 0;padding: 0.3em;box-sizing: border-box;text-align: center;}#sk-container-id-1 label.sk-toggleable__label-arrow:before {content: \"▸\";float: left;margin-right: 0.25em;color: #696969;}#sk-container-id-1 label.sk-toggleable__label-arrow:hover:before {color: black;}#sk-container-id-1 div.sk-estimator:hover label.sk-toggleable__label-arrow:before {color: black;}#sk-container-id-1 div.sk-toggleable__content {max-height: 0;max-width: 0;overflow: hidden;text-align: left;background-color: #f0f8ff;}#sk-container-id-1 div.sk-toggleable__content pre {margin: 0.2em;color: black;border-radius: 0.25em;background-color: #f0f8ff;}#sk-container-id-1 input.sk-toggleable__control:checked~div.sk-toggleable__content {max-height: 200px;max-width: 100%;overflow: auto;}#sk-container-id-1 input.sk-toggleable__control:checked~label.sk-toggleable__label-arrow:before {content: \"▾\";}#sk-container-id-1 div.sk-estimator input.sk-toggleable__control:checked~label.sk-toggleable__label {background-color: #d4ebff;}#sk-container-id-1 div.sk-label input.sk-toggleable__control:checked~label.sk-toggleable__label {background-color: #d4ebff;}#sk-container-id-1 input.sk-hidden--visually {border: 0;clip: rect(1px 1px 1px 1px);clip: rect(1px, 1px, 1px, 1px);height: 1px;margin: -1px;overflow: hidden;padding: 0;position: absolute;width: 1px;}#sk-container-id-1 div.sk-estimator {font-family: monospace;background-color: #f0f8ff;border: 1px dotted black;border-radius: 0.25em;box-sizing: border-box;margin-bottom: 0.5em;}#sk-container-id-1 div.sk-estimator:hover {background-color: #d4ebff;}#sk-container-id-1 div.sk-parallel-item::after {content: \"\";width: 100%;border-bottom: 1px solid gray;flex-grow: 1;}#sk-container-id-1 div.sk-label:hover label.sk-toggleable__label {background-color: #d4ebff;}#sk-container-id-1 div.sk-serial::before {content: \"\";position: absolute;border-left: 1px solid gray;box-sizing: border-box;top: 0;bottom: 0;left: 50%;z-index: 0;}#sk-container-id-1 div.sk-serial {display: flex;flex-direction: column;align-items: center;background-color: white;padding-right: 0.2em;padding-left: 0.2em;position: relative;}#sk-container-id-1 div.sk-item {position: relative;z-index: 1;}#sk-container-id-1 div.sk-parallel {display: flex;align-items: stretch;justify-content: center;background-color: white;position: relative;}#sk-container-id-1 div.sk-item::before, #sk-container-id-1 div.sk-parallel-item::before {content: \"\";position: absolute;border-left: 1px solid gray;box-sizing: border-box;top: 0;bottom: 0;left: 50%;z-index: -1;}#sk-container-id-1 div.sk-parallel-item {display: flex;flex-direction: column;z-index: 1;position: relative;background-color: white;}#sk-container-id-1 div.sk-parallel-item:first-child::after {align-self: flex-end;width: 50%;}#sk-container-id-1 div.sk-parallel-item:last-child::after {align-self: flex-start;width: 50%;}#sk-container-id-1 div.sk-parallel-item:only-child::after {width: 0;}#sk-container-id-1 div.sk-dashed-wrapped {border: 1px dashed gray;margin: 0 0.4em 0.5em 0.4em;box-sizing: border-box;padding-bottom: 0.4em;background-color: white;}#sk-container-id-1 div.sk-label label {font-family: monospace;font-weight: bold;display: inline-block;line-height: 1.2em;}#sk-container-id-1 div.sk-label-container {text-align: center;}#sk-container-id-1 div.sk-container {/* jupyter's `normalize.less` sets `[hidden] { display: none; }` but bootstrap.min.css set `[hidden] { display: none !important; }` so we also need the `!important` here to be able to override the default hidden behavior on the sphinx rendered scikit-learn.org. See: https://github.com/scikit-learn/scikit-learn/issues/21755 */display: inline-block !important;position: relative;}#sk-container-id-1 div.sk-text-repr-fallback {display: none;}</style><div id=\"sk-container-id-1\" class=\"sk-top-container\"><div class=\"sk-text-repr-fallback\"><pre>StandardScaler()</pre><b>In a Jupyter environment, please rerun this cell to show the HTML representation or trust the notebook. <br />On GitHub, the HTML representation is unable to render, please try loading this page with nbviewer.org.</b></div><div class=\"sk-container\" hidden><div class=\"sk-item\"><div class=\"sk-estimator sk-toggleable\"><input class=\"sk-toggleable__control sk-hidden--visually\" id=\"sk-estimator-id-1\" type=\"checkbox\" checked><label for=\"sk-estimator-id-1\" class=\"sk-toggleable__label sk-toggleable__label-arrow\">StandardScaler</label><div class=\"sk-toggleable__content\"><pre>StandardScaler()</pre></div></div></div></div></div>"
      ],
      "text/plain": [
       "StandardScaler()"
      ]
     },
     "execution_count": 9,
     "metadata": {},
     "output_type": "execute_result"
    }
   ],
   "source": [
    "scale.fit(X_train)"
   ]
  },
  {
   "cell_type": "markdown",
   "metadata": {},
   "source": [
    "Apply the StandardScaler to the train and test sets"
   ]
  },
  {
   "cell_type": "code",
   "execution_count": 10,
   "metadata": {},
   "outputs": [],
   "source": [
    "X_train_std = scale.transform(X_train)\n",
    "X_test_std = scale.transform(X_test)"
   ]
  },
  {
   "cell_type": "markdown",
   "metadata": {},
   "source": [
    "Check the values after that"
   ]
  },
  {
   "cell_type": "code",
   "execution_count": 11,
   "metadata": {},
   "outputs": [
    {
     "data": {
      "text/plain": [
       "(array([-0.08878785,  0.99245064, -0.07217543, -0.12087906, -0.13114244,\n",
       "        -0.1312855 , -0.08861196, -0.08968266, -0.09519565, -0.10915324,\n",
       "        -0.07271837, -0.07898323,  0.27210453,  0.19214586, -0.09095412,\n",
       "         0.3788279 ]),\n",
       " 0)"
      ]
     },
     "execution_count": 11,
     "metadata": {},
     "output_type": "execute_result"
    }
   ],
   "source": [
    "X_train_std[1], y_train[1]"
   ]
  },
  {
   "cell_type": "markdown",
   "metadata": {},
   "source": [
    "## The model \n",
    "Using the same classical model with a balance close to 50% for both classes."
   ]
  },
  {
   "cell_type": "code",
   "execution_count": 12,
   "metadata": {},
   "outputs": [
    {
     "data": {
      "image/png": "[encoded data removed]",
      "text/plain": [
       "<IPython.core.display.Image object>"
      ]
     },
     "execution_count": 12,
     "metadata": {},
     "output_type": "execute_result"
    }
   ],
   "source": [
    "model = Sequential()\n",
    "\n",
    "model.add(Dense(25, input_dim=16, activation='relu', kernel_regularizer=l2(1e-6),kernel_initializer=\"glorot_normal\"))\n",
    "model.add(Dropout(0.5))\n",
    "model.add(Dense(8, activation='relu',kernel_regularizer=l2(1e-6), kernel_initializer=\"glorot_normal\"))\n",
    "model.add(Dropout(0.5))\n",
    "\n",
    "model.add(Dense(1, activation='sigmoid',kernel_regularizer=l2(1e-6), kernel_initializer=\"glorot_normal\"))\n",
    "\n",
    "plot_model(model, to_file='model_plot.png', show_shapes=True, show_layer_names=True)"
   ]
  },
  {
   "cell_type": "markdown",
   "metadata": {},
   "source": [
    "Since they are unbalanced values, it is common to deal with the Area under the ROC Curve(AUC)\n",
    "\n",
    "this works  using True Positive Rate and False Positive Rate, where they are defined as :\n",
    "\n",
    "- **True Positive Rate (TPR)** is a synonym for recall and is therefore defined as follows:\n",
    "$$\n",
    "T P R=\\frac{T P}{T P+F N}\n",
    "$$\n",
    "- **False Positive Rate (FPR)** is defined as follows:\n",
    "$$\n",
    "F P R=\\frac{F P}{F P+T N}\n",
    "$$\n",
    "\n",
    "metric instead of accuracy, therefore both were selected to train the model with the Adam optimizer. Using binary crossentropy because is a binary classification \n",
    "\n",
    "$$\\operatorname{Loss}=-\\frac{1}{\\begin{array}{c}\n",
    "\\text { output } \\\\\n",
    "\\text { size }\n",
    "\\end{array}} \\sum_{i=1}^{\\substack{\\text { output } \\\\\n",
    "\\text { size }}} y_{i} \\cdot \\log \\hat{y}_{i}+\\left(1-y_{i}\\right) \\cdot \\log \\left(1-\\hat{y}_{i}\\right).\n",
    "$$"
   ]
  },
  {
   "cell_type": "code",
   "execution_count": 13,
   "metadata": {},
   "outputs": [],
   "source": [
    "# Compile model\n",
    "auc = tf.keras.metrics.AUC()\n",
    "model.compile(loss='binary_crossentropy', optimizer=\"Adam\", metrics=['accuracy',auc])"
   ]
  },
  {
   "cell_type": "markdown",
   "metadata": {},
   "source": [
    "Using 100 epochs a batch size of 32, with a validation split of 0.2 of the  train data"
   ]
  },
  {
   "cell_type": "code",
   "execution_count": 14,
   "metadata": {},
   "outputs": [
    {
     "name": "stdout",
     "output_type": "stream",
     "text": [
      "Epoch 1/100\n",
      "50/50 [==============================] - 0s 2ms/step - loss: 0.7649 - accuracy: 0.5562 - auc: 0.5035 - val_loss: 0.7450 - val_accuracy: 0.1675 - val_auc: 0.0000e+00\n",
      "Epoch 2/100\n",
      "50/50 [==============================] - 0s 578us/step - loss: 0.7100 - accuracy: 0.6037 - auc: 0.5046 - val_loss: 0.7885 - val_accuracy: 0.0875 - val_auc: 0.0000e+00\n",
      "Epoch 3/100\n",
      "50/50 [==============================] - 0s 541us/step - loss: 0.6933 - accuracy: 0.6100 - auc: 0.5032 - val_loss: 0.8033 - val_accuracy: 0.0825 - val_auc: 0.0000e+00\n",
      "Epoch 4/100\n",
      "50/50 [==============================] - 0s 534us/step - loss: 0.7005 - accuracy: 0.6137 - auc: 0.5080 - val_loss: 0.8206 - val_accuracy: 0.0750 - val_auc: 0.0000e+00\n",
      "Epoch 5/100\n",
      "50/50 [==============================] - 0s 528us/step - loss: 0.6759 - accuracy: 0.6237 - auc: 0.5349 - val_loss: 0.8333 - val_accuracy: 0.0625 - val_auc: 0.0000e+00\n",
      "Epoch 6/100\n",
      "50/50 [==============================] - 0s 524us/step - loss: 0.6701 - accuracy: 0.6325 - auc: 0.5478 - val_loss: 0.8569 - val_accuracy: 0.0575 - val_auc: 0.0000e+00\n",
      "Epoch 7/100\n",
      "50/50 [==============================] - 0s 521us/step - loss: 0.6573 - accuracy: 0.6400 - auc: 0.5575 - val_loss: 0.8637 - val_accuracy: 0.0875 - val_auc: 0.0000e+00\n",
      "Epoch 8/100\n",
      "50/50 [==============================] - 0s 554us/step - loss: 0.6687 - accuracy: 0.6275 - auc: 0.5598 - val_loss: 0.8783 - val_accuracy: 0.0775 - val_auc: 0.0000e+00\n",
      "Epoch 9/100\n",
      "50/50 [==============================] - 0s 530us/step - loss: 0.6669 - accuracy: 0.6344 - auc: 0.5433 - val_loss: 0.8877 - val_accuracy: 0.0700 - val_auc: 0.0000e+00\n",
      "Epoch 10/100\n",
      "50/50 [==============================] - 0s 533us/step - loss: 0.6573 - accuracy: 0.6388 - auc: 0.5720 - val_loss: 0.8934 - val_accuracy: 0.0725 - val_auc: 0.0000e+00\n",
      "Epoch 11/100\n",
      "50/50 [==============================] - 0s 541us/step - loss: 0.6584 - accuracy: 0.6394 - auc: 0.5867 - val_loss: 0.9025 - val_accuracy: 0.0850 - val_auc: 0.0000e+00\n",
      "Epoch 12/100\n",
      "50/50 [==============================] - 0s 517us/step - loss: 0.6516 - accuracy: 0.6381 - auc: 0.5735 - val_loss: 0.9031 - val_accuracy: 0.0775 - val_auc: 0.0000e+00\n",
      "Epoch 13/100\n",
      "50/50 [==============================] - 0s 531us/step - loss: 0.6752 - accuracy: 0.6381 - auc: 0.5903 - val_loss: 0.9153 - val_accuracy: 0.0725 - val_auc: 0.0000e+00\n",
      "Epoch 14/100\n",
      "50/50 [==============================] - 0s 539us/step - loss: 0.6491 - accuracy: 0.6438 - auc: 0.5700 - val_loss: 0.9230 - val_accuracy: 0.0900 - val_auc: 0.0000e+00\n",
      "Epoch 15/100\n",
      "50/50 [==============================] - 0s 530us/step - loss: 0.6511 - accuracy: 0.6313 - auc: 0.5922 - val_loss: 0.9182 - val_accuracy: 0.0950 - val_auc: 0.0000e+00\n",
      "Epoch 16/100\n",
      "50/50 [==============================] - 0s 526us/step - loss: 0.6505 - accuracy: 0.6369 - auc: 0.5967 - val_loss: 0.9192 - val_accuracy: 0.0950 - val_auc: 0.0000e+00\n",
      "Epoch 17/100\n",
      "50/50 [==============================] - 0s 542us/step - loss: 0.6500 - accuracy: 0.6306 - auc: 0.5789 - val_loss: 0.9184 - val_accuracy: 0.0925 - val_auc: 0.0000e+00\n",
      "Epoch 18/100\n",
      "50/50 [==============================] - 0s 526us/step - loss: 0.6508 - accuracy: 0.6369 - auc: 0.5931 - val_loss: 0.9234 - val_accuracy: 0.1025 - val_auc: 0.0000e+00\n",
      "Epoch 19/100\n",
      "50/50 [==============================] - 0s 612us/step - loss: 0.6433 - accuracy: 0.6413 - auc: 0.6167 - val_loss: 0.9155 - val_accuracy: 0.1250 - val_auc: 0.0000e+00\n",
      "Epoch 20/100\n",
      "50/50 [==============================] - 0s 547us/step - loss: 0.6441 - accuracy: 0.6356 - auc: 0.6060 - val_loss: 0.9339 - val_accuracy: 0.1125 - val_auc: 0.0000e+00\n",
      "Epoch 21/100\n",
      "50/50 [==============================] - 0s 540us/step - loss: 0.6436 - accuracy: 0.6394 - auc: 0.6080 - val_loss: 0.9255 - val_accuracy: 0.1250 - val_auc: 0.0000e+00\n",
      "Epoch 22/100\n",
      "50/50 [==============================] - 0s 549us/step - loss: 0.6407 - accuracy: 0.6338 - auc: 0.6143 - val_loss: 0.9320 - val_accuracy: 0.1350 - val_auc: 0.0000e+00\n",
      "Epoch 23/100\n",
      "50/50 [==============================] - 0s 546us/step - loss: 0.6365 - accuracy: 0.6488 - auc: 0.6161 - val_loss: 0.9240 - val_accuracy: 0.1400 - val_auc: 0.0000e+00\n",
      "Epoch 24/100\n",
      "50/50 [==============================] - 0s 547us/step - loss: 0.6353 - accuracy: 0.6413 - auc: 0.6265 - val_loss: 0.9271 - val_accuracy: 0.1475 - val_auc: 0.0000e+00\n",
      "Epoch 25/100\n",
      "50/50 [==============================] - 0s 536us/step - loss: 0.6350 - accuracy: 0.6469 - auc: 0.6243 - val_loss: 0.9339 - val_accuracy: 0.1375 - val_auc: 0.0000e+00\n",
      "Epoch 26/100\n",
      "50/50 [==============================] - 0s 560us/step - loss: 0.6387 - accuracy: 0.6438 - auc: 0.6204 - val_loss: 0.9314 - val_accuracy: 0.1375 - val_auc: 0.0000e+00\n",
      "Epoch 27/100\n",
      "50/50 [==============================] - 0s 546us/step - loss: 0.6429 - accuracy: 0.6338 - auc: 0.6079 - val_loss: 0.9145 - val_accuracy: 0.1375 - val_auc: 0.0000e+00\n",
      "Epoch 28/100\n",
      "50/50 [==============================] - 0s 536us/step - loss: 0.6382 - accuracy: 0.6419 - auc: 0.6166 - val_loss: 0.9236 - val_accuracy: 0.1350 - val_auc: 0.0000e+00\n",
      "Epoch 29/100\n",
      "50/50 [==============================] - 0s 527us/step - loss: 0.6617 - accuracy: 0.6356 - auc: 0.6284 - val_loss: 0.9285 - val_accuracy: 0.1350 - val_auc: 0.0000e+00\n",
      "Epoch 30/100\n",
      "50/50 [==============================] - 0s 546us/step - loss: 0.6335 - accuracy: 0.6406 - auc: 0.6434 - val_loss: 0.9273 - val_accuracy: 0.1425 - val_auc: 0.0000e+00\n",
      "Epoch 31/100\n",
      "50/50 [==============================] - 0s 538us/step - loss: 0.6346 - accuracy: 0.6475 - auc: 0.6388 - val_loss: 0.9235 - val_accuracy: 0.1450 - val_auc: 0.0000e+00\n",
      "Epoch 32/100\n",
      "50/50 [==============================] - 0s 526us/step - loss: 0.6283 - accuracy: 0.6438 - auc: 0.6480 - val_loss: 0.9322 - val_accuracy: 0.1500 - val_auc: 0.0000e+00\n",
      "Epoch 33/100\n",
      "50/50 [==============================] - 0s 531us/step - loss: 0.6369 - accuracy: 0.6438 - auc: 0.6378 - val_loss: 0.9343 - val_accuracy: 0.1475 - val_auc: 0.0000e+00\n",
      "Epoch 34/100\n",
      "50/50 [==============================] - 0s 534us/step - loss: 0.6369 - accuracy: 0.6400 - auc: 0.6332 - val_loss: 0.9200 - val_accuracy: 0.1450 - val_auc: 0.0000e+00\n",
      "Epoch 35/100\n",
      "50/50 [==============================] - 0s 523us/step - loss: 0.6256 - accuracy: 0.6456 - auc: 0.6463 - val_loss: 0.9204 - val_accuracy: 0.1600 - val_auc: 0.0000e+00\n",
      "Epoch 36/100\n",
      "50/50 [==============================] - 0s 532us/step - loss: 0.6338 - accuracy: 0.6463 - auc: 0.6406 - val_loss: 0.9301 - val_accuracy: 0.1400 - val_auc: 0.0000e+00\n",
      "Epoch 37/100\n",
      "50/50 [==============================] - 0s 534us/step - loss: 0.6233 - accuracy: 0.6488 - auc: 0.6558 - val_loss: 0.9259 - val_accuracy: 0.1800 - val_auc: 0.0000e+00\n",
      "Epoch 38/100\n",
      "50/50 [==============================] - 0s 521us/step - loss: 0.6247 - accuracy: 0.6363 - auc: 0.6463 - val_loss: 0.9358 - val_accuracy: 0.1800 - val_auc: 0.0000e+00\n",
      "Epoch 39/100\n",
      "50/50 [==============================] - 0s 534us/step - loss: 0.6196 - accuracy: 0.6506 - auc: 0.6593 - val_loss: 0.9326 - val_accuracy: 0.1650 - val_auc: 0.0000e+00\n",
      "Epoch 40/100\n",
      "50/50 [==============================] - 0s 537us/step - loss: 0.6238 - accuracy: 0.6481 - auc: 0.6481 - val_loss: 0.9260 - val_accuracy: 0.1775 - val_auc: 0.0000e+00\n",
      "Epoch 41/100\n",
      "50/50 [==============================] - 0s 535us/step - loss: 0.6267 - accuracy: 0.6450 - auc: 0.6531 - val_loss: 0.9241 - val_accuracy: 0.1825 - val_auc: 0.0000e+00\n",
      "Epoch 42/100\n",
      "50/50 [==============================] - 0s 531us/step - loss: 0.6278 - accuracy: 0.6431 - auc: 0.6486 - val_loss: 0.9110 - val_accuracy: 0.1850 - val_auc: 0.0000e+00\n",
      "Epoch 43/100\n",
      "50/50 [==============================] - 0s 556us/step - loss: 0.6185 - accuracy: 0.6519 - auc: 0.6695 - val_loss: 0.9351 - val_accuracy: 0.1700 - val_auc: 0.0000e+00\n",
      "Epoch 44/100\n",
      "50/50 [==============================] - 0s 546us/step - loss: 0.6187 - accuracy: 0.6469 - auc: 0.6668 - val_loss: 0.9446 - val_accuracy: 0.1700 - val_auc: 0.0000e+00\n",
      "Epoch 45/100\n",
      "50/50 [==============================] - 0s 526us/step - loss: 0.6217 - accuracy: 0.6488 - auc: 0.6679 - val_loss: 0.9334 - val_accuracy: 0.1825 - val_auc: 0.0000e+00\n",
      "Epoch 46/100\n",
      "50/50 [==============================] - 0s 525us/step - loss: 0.6225 - accuracy: 0.6469 - auc: 0.6541 - val_loss: 0.9202 - val_accuracy: 0.1850 - val_auc: 0.0000e+00\n",
      "Epoch 47/100\n",
      "50/50 [==============================] - 0s 509us/step - loss: 0.6254 - accuracy: 0.6481 - auc: 0.6607 - val_loss: 0.9228 - val_accuracy: 0.1775 - val_auc: 0.0000e+00\n",
      "Epoch 48/100\n",
      "50/50 [==============================] - 0s 509us/step - loss: 0.6261 - accuracy: 0.6550 - auc: 0.6598 - val_loss: 0.9227 - val_accuracy: 0.1775 - val_auc: 0.0000e+00\n",
      "Epoch 49/100\n",
      "50/50 [==============================] - 0s 505us/step - loss: 0.6222 - accuracy: 0.6513 - auc: 0.6614 - val_loss: 0.9091 - val_accuracy: 0.1800 - val_auc: 0.0000e+00\n",
      "Epoch 50/100\n",
      "50/50 [==============================] - 0s 538us/step - loss: 0.6217 - accuracy: 0.6531 - auc: 0.6629 - val_loss: 0.9127 - val_accuracy: 0.1875 - val_auc: 0.0000e+00\n",
      "Epoch 51/100\n",
      "50/50 [==============================] - 0s 538us/step - loss: 0.6160 - accuracy: 0.6581 - auc: 0.6691 - val_loss: 0.9122 - val_accuracy: 0.1900 - val_auc: 0.0000e+00\n",
      "Epoch 52/100\n",
      "50/50 [==============================] - 0s 508us/step - loss: 0.6189 - accuracy: 0.6500 - auc: 0.6706 - val_loss: 0.9301 - val_accuracy: 0.1675 - val_auc: 0.0000e+00\n",
      "Epoch 53/100\n",
      "50/50 [==============================] - 0s 503us/step - loss: 0.6137 - accuracy: 0.6556 - auc: 0.6789 - val_loss: 0.9088 - val_accuracy: 0.1750 - val_auc: 0.0000e+00\n",
      "Epoch 54/100\n",
      "50/50 [==============================] - 0s 507us/step - loss: 0.6126 - accuracy: 0.6519 - auc: 0.6795 - val_loss: 0.8949 - val_accuracy: 0.1900 - val_auc: 0.0000e+00\n",
      "Epoch 55/100\n",
      "50/50 [==============================] - 0s 504us/step - loss: 0.6097 - accuracy: 0.6631 - auc: 0.6820 - val_loss: 0.9008 - val_accuracy: 0.1950 - val_auc: 0.0000e+00\n",
      "Epoch 56/100\n",
      "50/50 [==============================] - 0s 505us/step - loss: 0.6037 - accuracy: 0.6612 - auc: 0.7060 - val_loss: 0.9268 - val_accuracy: 0.2000 - val_auc: 0.0000e+00\n",
      "Epoch 57/100\n",
      "50/50 [==============================] - 0s 505us/step - loss: 0.6092 - accuracy: 0.6562 - auc: 0.6814 - val_loss: 0.8948 - val_accuracy: 0.2225 - val_auc: 0.0000e+00\n",
      "Epoch 58/100\n",
      "50/50 [==============================] - 0s 506us/step - loss: 0.6119 - accuracy: 0.6569 - auc: 0.6744 - val_loss: 0.9026 - val_accuracy: 0.2075 - val_auc: 0.0000e+00\n",
      "Epoch 59/100\n",
      "50/50 [==============================] - 0s 503us/step - loss: 0.6054 - accuracy: 0.6550 - auc: 0.6904 - val_loss: 0.8958 - val_accuracy: 0.2275 - val_auc: 0.0000e+00\n",
      "Epoch 60/100\n",
      "50/50 [==============================] - 0s 499us/step - loss: 0.6073 - accuracy: 0.6594 - auc: 0.6748 - val_loss: 0.9097 - val_accuracy: 0.2100 - val_auc: 0.0000e+00\n",
      "Epoch 61/100\n",
      "50/50 [==============================] - 0s 503us/step - loss: 0.6066 - accuracy: 0.6587 - auc: 0.6791 - val_loss: 0.9052 - val_accuracy: 0.2125 - val_auc: 0.0000e+00\n",
      "Epoch 62/100\n",
      "50/50 [==============================] - 0s 501us/step - loss: 0.6114 - accuracy: 0.6469 - auc: 0.6838 - val_loss: 0.8996 - val_accuracy: 0.2000 - val_auc: 0.0000e+00\n",
      "Epoch 63/100\n",
      "50/50 [==============================] - 0s 502us/step - loss: 0.6076 - accuracy: 0.6544 - auc: 0.6904 - val_loss: 0.9121 - val_accuracy: 0.2025 - val_auc: 0.0000e+00\n",
      "Epoch 64/100\n",
      "50/50 [==============================] - 0s 504us/step - loss: 0.6024 - accuracy: 0.6587 - auc: 0.6898 - val_loss: 0.9085 - val_accuracy: 0.2050 - val_auc: 0.0000e+00\n",
      "Epoch 65/100\n",
      "50/50 [==============================] - 0s 504us/step - loss: 0.5971 - accuracy: 0.6587 - auc: 0.7103 - val_loss: 0.9006 - val_accuracy: 0.2050 - val_auc: 0.0000e+00\n",
      "Epoch 66/100\n",
      "50/50 [==============================] - 0s 503us/step - loss: 0.6043 - accuracy: 0.6669 - auc: 0.6886 - val_loss: 0.8934 - val_accuracy: 0.2150 - val_auc: 0.0000e+00\n",
      "Epoch 67/100\n",
      "50/50 [==============================] - 0s 508us/step - loss: 0.5986 - accuracy: 0.6606 - auc: 0.7013 - val_loss: 0.9010 - val_accuracy: 0.2225 - val_auc: 0.0000e+00\n",
      "Epoch 68/100\n",
      "50/50 [==============================] - 0s 503us/step - loss: 0.5976 - accuracy: 0.6694 - auc: 0.6922 - val_loss: 0.8943 - val_accuracy: 0.2225 - val_auc: 0.0000e+00\n",
      "Epoch 69/100\n",
      "50/50 [==============================] - 0s 503us/step - loss: 0.6002 - accuracy: 0.6625 - auc: 0.6991 - val_loss: 0.8909 - val_accuracy: 0.2225 - val_auc: 0.0000e+00\n",
      "Epoch 70/100\n",
      "50/50 [==============================] - 0s 497us/step - loss: 0.6000 - accuracy: 0.6575 - auc: 0.6952 - val_loss: 0.8867 - val_accuracy: 0.2300 - val_auc: 0.0000e+00\n",
      "Epoch 71/100\n",
      "50/50 [==============================] - 0s 500us/step - loss: 0.5902 - accuracy: 0.6669 - auc: 0.7138 - val_loss: 0.8703 - val_accuracy: 0.2350 - val_auc: 0.0000e+00\n",
      "Epoch 72/100\n",
      "50/50 [==============================] - 0s 503us/step - loss: 0.5951 - accuracy: 0.6562 - auc: 0.7102 - val_loss: 0.8892 - val_accuracy: 0.2250 - val_auc: 0.0000e+00\n",
      "Epoch 73/100\n",
      "50/50 [==============================] - 0s 500us/step - loss: 0.5944 - accuracy: 0.6719 - auc: 0.7014 - val_loss: 0.8903 - val_accuracy: 0.2300 - val_auc: 0.0000e+00\n",
      "Epoch 74/100\n",
      "50/50 [==============================] - 0s 500us/step - loss: 0.5912 - accuracy: 0.6513 - auc: 0.7121 - val_loss: 0.9008 - val_accuracy: 0.2475 - val_auc: 0.0000e+00\n",
      "Epoch 75/100\n",
      "50/50 [==============================] - 0s 504us/step - loss: 0.5940 - accuracy: 0.6650 - auc: 0.7069 - val_loss: 0.8582 - val_accuracy: 0.2625 - val_auc: 0.0000e+00\n",
      "Epoch 76/100\n",
      "50/50 [==============================] - 0s 498us/step - loss: 0.5883 - accuracy: 0.6694 - auc: 0.7180 - val_loss: 0.8741 - val_accuracy: 0.2650 - val_auc: 0.0000e+00\n",
      "Epoch 77/100\n",
      "50/50 [==============================] - 0s 504us/step - loss: 0.5865 - accuracy: 0.6744 - auc: 0.7109 - val_loss: 0.8909 - val_accuracy: 0.2500 - val_auc: 0.0000e+00\n",
      "Epoch 78/100\n",
      "50/50 [==============================] - 0s 503us/step - loss: 0.5842 - accuracy: 0.6694 - auc: 0.7259 - val_loss: 0.9053 - val_accuracy: 0.2625 - val_auc: 0.0000e+00\n",
      "Epoch 79/100\n",
      "50/50 [==============================] - 0s 506us/step - loss: 0.5830 - accuracy: 0.6744 - auc: 0.7187 - val_loss: 0.8875 - val_accuracy: 0.2575 - val_auc: 0.0000e+00\n",
      "Epoch 80/100\n",
      "50/50 [==============================] - 0s 502us/step - loss: 0.5868 - accuracy: 0.6681 - auc: 0.7229 - val_loss: 0.8729 - val_accuracy: 0.2550 - val_auc: 0.0000e+00\n",
      "Epoch 81/100\n",
      "50/50 [==============================] - 0s 499us/step - loss: 0.5767 - accuracy: 0.6819 - auc: 0.7341 - val_loss: 0.9093 - val_accuracy: 0.2625 - val_auc: 0.0000e+00\n",
      "Epoch 82/100\n",
      "50/50 [==============================] - 0s 503us/step - loss: 0.5896 - accuracy: 0.6706 - auc: 0.7119 - val_loss: 0.8667 - val_accuracy: 0.2475 - val_auc: 0.0000e+00\n",
      "Epoch 83/100\n",
      "50/50 [==============================] - 0s 505us/step - loss: 0.5793 - accuracy: 0.6831 - auc: 0.7332 - val_loss: 0.8598 - val_accuracy: 0.2650 - val_auc: 0.0000e+00\n",
      "Epoch 84/100\n",
      "50/50 [==============================] - 0s 505us/step - loss: 0.5722 - accuracy: 0.6831 - auc: 0.7375 - val_loss: 0.8416 - val_accuracy: 0.2825 - val_auc: 0.0000e+00\n",
      "Epoch 85/100\n",
      "50/50 [==============================] - 0s 501us/step - loss: 0.5848 - accuracy: 0.6775 - auc: 0.7217 - val_loss: 0.8244 - val_accuracy: 0.3600 - val_auc: 0.0000e+00\n",
      "Epoch 86/100\n",
      "50/50 [==============================] - 0s 500us/step - loss: 0.5833 - accuracy: 0.6744 - auc: 0.7218 - val_loss: 0.8465 - val_accuracy: 0.3175 - val_auc: 0.0000e+00\n",
      "Epoch 87/100\n",
      "50/50 [==============================] - 0s 497us/step - loss: 0.5857 - accuracy: 0.6737 - auc: 0.7246 - val_loss: 0.8523 - val_accuracy: 0.2775 - val_auc: 0.0000e+00\n",
      "Epoch 88/100\n",
      "50/50 [==============================] - 0s 503us/step - loss: 0.5716 - accuracy: 0.6850 - auc: 0.7415 - val_loss: 0.8680 - val_accuracy: 0.3100 - val_auc: 0.0000e+00\n",
      "Epoch 89/100\n",
      "50/50 [==============================] - 0s 504us/step - loss: 0.5713 - accuracy: 0.6769 - auc: 0.7368 - val_loss: 0.8544 - val_accuracy: 0.3375 - val_auc: 0.0000e+00\n",
      "Epoch 90/100\n",
      "50/50 [==============================] - 0s 502us/step - loss: 0.5750 - accuracy: 0.6800 - auc: 0.7343 - val_loss: 0.8758 - val_accuracy: 0.2775 - val_auc: 0.0000e+00\n",
      "Epoch 91/100\n"
     ]
    },
    {
     "name": "stdout",
     "output_type": "stream",
     "text": [
      "50/50 [==============================] - 0s 505us/step - loss: 0.5638 - accuracy: 0.6869 - auc: 0.7499 - val_loss: 0.8726 - val_accuracy: 0.2925 - val_auc: 0.0000e+00\n",
      "Epoch 92/100\n",
      "50/50 [==============================] - 0s 503us/step - loss: 0.5617 - accuracy: 0.6906 - auc: 0.7560 - val_loss: 0.8780 - val_accuracy: 0.2800 - val_auc: 0.0000e+00\n",
      "Epoch 93/100\n",
      "50/50 [==============================] - 0s 508us/step - loss: 0.5665 - accuracy: 0.6862 - auc: 0.7494 - val_loss: 0.8562 - val_accuracy: 0.3475 - val_auc: 0.0000e+00\n",
      "Epoch 94/100\n",
      "50/50 [==============================] - 0s 504us/step - loss: 0.5598 - accuracy: 0.7013 - auc: 0.7565 - val_loss: 0.8825 - val_accuracy: 0.3200 - val_auc: 0.0000e+00\n",
      "Epoch 95/100\n",
      "50/50 [==============================] - 0s 505us/step - loss: 0.5587 - accuracy: 0.6950 - auc: 0.7618 - val_loss: 0.8268 - val_accuracy: 0.4000 - val_auc: 0.0000e+00\n",
      "Epoch 96/100\n",
      "50/50 [==============================] - 0s 507us/step - loss: 0.5648 - accuracy: 0.6900 - auc: 0.7439 - val_loss: 0.8122 - val_accuracy: 0.3925 - val_auc: 0.0000e+00\n",
      "Epoch 97/100\n",
      "50/50 [==============================] - 0s 507us/step - loss: 0.5540 - accuracy: 0.6988 - auc: 0.7614 - val_loss: 0.8088 - val_accuracy: 0.4100 - val_auc: 0.0000e+00\n",
      "Epoch 98/100\n",
      "50/50 [==============================] - 0s 504us/step - loss: 0.5537 - accuracy: 0.6981 - auc: 0.7643 - val_loss: 0.8301 - val_accuracy: 0.4125 - val_auc: 0.0000e+00\n",
      "Epoch 99/100\n",
      "50/50 [==============================] - 0s 505us/step - loss: 0.5587 - accuracy: 0.6963 - auc: 0.7541 - val_loss: 0.8223 - val_accuracy: 0.4100 - val_auc: 0.0000e+00\n",
      "Epoch 100/100\n",
      "50/50 [==============================] - 0s 505us/step - loss: 0.5622 - accuracy: 0.6913 - auc: 0.7496 - val_loss: 0.8580 - val_accuracy: 0.3950 - val_auc: 0.0000e+00\n"
     ]
    }
   ],
   "source": [
    "model_history = model.fit(X_train_std, y_train, epochs=100,\n",
    "                                        batch_size=32, \n",
    "                                        validation_split=0.2, shuffle=True)"
   ]
  },
  {
   "cell_type": "markdown",
   "metadata": {},
   "source": [
    "## Predictions\n",
    "\n",
    "After that we used the predictions  of the  train and test set"
   ]
  },
  {
   "cell_type": "code",
   "execution_count": 15,
   "metadata": {},
   "outputs": [
    {
     "name": "stdout",
     "output_type": "stream",
     "text": [
      "63/63 [==============================] - 0s 208us/step\n",
      "193/193 [==============================] - 0s 178us/step\n"
     ]
    }
   ],
   "source": [
    "train_pred = model.predict(X_train_std)\n",
    "test_pred = model.predict(X_test_std)"
   ]
  },
  {
   "cell_type": "markdown",
   "metadata": {},
   "source": [
    "to convert the predict values into the classes was designed an condition that looks as "
   ]
  },
  {
   "cell_type": "code",
   "execution_count": 16,
   "metadata": {},
   "outputs": [
    {
     "name": "stdout",
     "output_type": "stream",
     "text": [
      "63/63 [==============================] - 0s 302us/step\n",
      "193/193 [==============================] - 0s 177us/step\n"
     ]
    }
   ],
   "source": [
    "y_train_pred = (model.predict(X_train_std) > 0.5).astype(\"int32\")\n",
    "y_test_pred = (model.predict(X_test_std) > 0.5).astype(\"int32\")"
   ]
  },
  {
   "cell_type": "markdown",
   "metadata": {},
   "source": [
    "### Getting evaluation metrics and evaluating model performance\n",
    "\n",
    "Using different metrics as \n",
    "\n",
    "- accuracy\n",
    "- precision\n",
    "- recall\n",
    "- f1 score\n",
    "- cohen_kappa\n",
    "- roc_auc\n",
    "\n",
    "\n",
    "The results of the train are important to check the F1 score and ROC AUC, they are \n",
    "\n",
    "- F1 score: 0.413999\n",
    "- ROC AUC: 0.606500\n",
    "\n",
    "they are worst with respect the imbalance but good to comapre with a quantum model"
   ]
  },
  {
   "cell_type": "code",
   "execution_count": 21,
   "metadata": {},
   "outputs": [
    {
     "ename": "NameError",
     "evalue": "name 'accuracy_score' is not defined",
     "output_type": "error",
     "traceback": [
      "\u001b[0;31m---------------------------------------------------------------------------\u001b[0m",
      "\u001b[0;31mNameError\u001b[0m                                 Traceback (most recent call last)",
      "Cell \u001b[0;32mIn[21], line 1\u001b[0m\n\u001b[0;32m----> 1\u001b[0m accuracy \u001b[38;5;241m=\u001b[39m \u001b[43maccuracy_score\u001b[49m(y_train, y_train_pred)\n\u001b[1;32m      2\u001b[0m \u001b[38;5;28mprint\u001b[39m(\u001b[38;5;124m'\u001b[39m\u001b[38;5;124mAccuracy: \u001b[39m\u001b[38;5;132;01m%f\u001b[39;00m\u001b[38;5;124m'\u001b[39m \u001b[38;5;241m%\u001b[39m accuracy)\n\u001b[1;32m      3\u001b[0m \u001b[38;5;66;03m# precision tp / (tp + fp)\u001b[39;00m\n",
      "\u001b[0;31mNameError\u001b[0m: name 'accuracy_score' is not defined"
     ]
    }
   ],
   "source": [
    "accuracy = accuracy_score(y_train, y_train_pred)\n",
    "print('Accuracy: %f' % accuracy)\n",
    "# precision tp / (tp + fp)\n",
    "precision = precision_score(y_train, y_train_pred)\n",
    "print('Precision: %f' % precision)\n",
    "# recall: tp / (tp + fn)\n",
    "recall = recall_score(y_train, y_train_pred)\n",
    "print('Recall: %f' % recall)\n",
    "# f1: 2 tp / (2 tp + fp + fn)\n",
    "f1 = f1_score(y_train, y_train_pred)\n",
    "print('F1 score: %f' % f1)\n",
    " \n",
    "# kappa\n",
    "kappa = cohen_kappa_score(y_train, y_train_pred)\n",
    "print('Cohens kappa: %f' % kappa)\n",
    "# ROC AUC\n",
    "auc = roc_auc_score(y_train, y_train_pred)\n",
    "print('ROC AUC: %f' % auc)\n",
    "# confusion matrix\n",
    "train_matrix = confusion_matrix(y_train, y_train_pred)\n",
    "print(train_matrix)\n",
    "ax = sns.heatmap(train_matrix, annot=True, cmap='Blues', fmt='g')\n",
    "\n",
    "ax.set_title('Seaborn Confusion Matrix with labels\\n\\n');\n",
    "ax.set_xlabel('\\nPredicted Values')\n",
    "ax.set_ylabel('Actual Values ');\n",
    "\n",
    "ax.xaxis.set_ticklabels(['0','1'])\n",
    "ax.yaxis.set_ticklabels(['0','1'])\n",
    "\n",
    "## Display the visualization of the Confusion Matrix.\n",
    "plt.show()"
   ]
  },
  {
   "cell_type": "markdown",
   "metadata": {},
   "source": [
    "The results of the test are important to check the F1 score and ROC AUC, they are \n",
    "\n",
    "- F1 score: 0.338028\n",
    "- ROC AUC: 0.598467\n",
    "\n",
    "they are worst with respect the imbalance but good to comapre with a quantum model"
   ]
  },
  {
   "cell_type": "code",
   "execution_count": 16,
   "metadata": {},
   "outputs": [
    {
     "name": "stdout",
     "output_type": "stream",
     "text": [
      "Accuracy: 0.809222\n",
      "Precision: 0.464396\n",
      "Recall: 0.265722\n",
      "F1 score: 0.338028\n",
      "Cohens kappa: 0.236103\n",
      "ROC AUC: 0.598467\n",
      "[[4684  346]\n",
      " [ 829  300]]\n"
     ]
    },
    {
     "data": {
      "image/png": "[encoded data removed]",
      "text/plain": [
       "<Figure size 432x288 with 2 Axes>"
      ]
     },
     "metadata": {
      "needs_background": "light"
     },
     "output_type": "display_data"
    }
   ],
   "source": [
    "accuracy = accuracy_score(y_test, y_test_pred)\n",
    "print('Accuracy: %f' % accuracy)\n",
    "# precision tp / (tp + fp)\n",
    "precision = precision_score(y_test, y_test_pred)\n",
    "print('Precision: %f' % precision)\n",
    "# recall: tp / (tp + fn)\n",
    "recall = recall_score(y_test, y_test_pred)\n",
    "print('Recall: %f' % recall)\n",
    "# f1: 2 tp / (2 tp + fp + fn)\n",
    "f1 = f1_score(y_test, y_test_pred)\n",
    "print('F1 score: %f' % f1)\n",
    " \n",
    "# kappa\n",
    "kappa = cohen_kappa_score(y_test, y_test_pred)\n",
    "print('Cohens kappa: %f' % kappa)\n",
    "# ROC AUC\n",
    "auc = roc_auc_score(y_test, y_test_pred)\n",
    "print('ROC AUC: %f' % auc)\n",
    "# confusion matrix\n",
    "test_matrix = confusion_matrix(y_test, y_test_pred)\n",
    "print(test_matrix)\n",
    "ax = sns.heatmap(test_matrix, annot=True, cmap='Blues', fmt='g')\n",
    "\n",
    "ax.set_title('Seaborn Confusion Matrix with labels\\n\\n');\n",
    "ax.set_xlabel('\\nPredicted Values')\n",
    "ax.set_ylabel('Actual Values ');\n",
    "\n",
    "ax.xaxis.set_ticklabels(['0','1'])\n",
    "ax.yaxis.set_ticklabels(['0','1'])\n",
    "\n",
    "## Display the visualization of the Confusion Matrix.\n",
    "plt.show()"
   ]
  }
 ],
 "metadata": {
  "kernelspec": {
   "display_name": "Python 3 (ipykernel)",
   "language": "python",
   "name": "python3"
  },
  "language_info": {
   "codemirror_mode": {
    "name": "ipython",
    "version": 3
   },
   "file_extension": ".py",
   "mimetype": "text/x-python",
   "name": "python",
   "nbconvert_exporter": "python",
   "pygments_lexer": "ipython3",
   "version": "3.10.9"
  },
  "toc": {
   "base_numbering": 1,
   "nav_menu": {},
   "number_sections": true,
   "sideBar": true,
   "skip_h1_title": false,
   "title_cell": "Table of Contents",
   "title_sidebar": "Contents",
   "toc_cell": false,
   "toc_position": {},
   "toc_section_display": true,
   "toc_window_display": false
  },
  "varInspector": {
   "cols": {
    "lenName": 16,
    "lenType": 16,
    "lenVar": 40
   },
   "kernels_config": {
    "python": {
     "delete_cmd_postfix": "",
     "delete_cmd_prefix": "del ",
     "library": "var_list.py",
     "varRefreshCmd": "print(var_dic_list())"
    },
    "r": {
     "delete_cmd_postfix": ") ",
     "delete_cmd_prefix": "rm(",
     "library": "var_list.r",
     "varRefreshCmd": "cat(var_dic_list()) "
    }
   },
   "types_to_exclude": [
    "module",
    "function",
    "builtin_function_or_method",
    "instance",
    "_Feature"
   ],
   "window_display": false
  }
 },
 "nbformat": 4,
 "nbformat_minor": 2
}
