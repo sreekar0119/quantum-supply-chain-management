{
 "cells": [
  {
   "cell_type": "markdown",
   "metadata": {},
   "source": [
    "## Fair Model\n",
    "\n",
    "The fair model is designed from the data set that was made in the data analysis section and his can compare with the quantum models, for this will be with the use of neural networks to predict when there is a backorder and thus pass the data to the company responsible for the distribution and storage.\n",
    "\n",
    "\n",
    "In case you don't have installed tensorflow uncomment the following cell"
   ]
  },
  {
   "cell_type": "code",
   "execution_count": 7,
   "metadata": {},
   "outputs": [
    {
     "name": "stdout",
     "output_type": "stream",
     "text": [
      "Requirement already satisfied: pip in /Users/charan/anaconda3/lib/python3.10/site-packages (23.1.2)\n",
      "Found existing installation: tensorflow 2.13.0rc1\n",
      "Uninstalling tensorflow-2.13.0rc1:\n",
      "  Successfully uninstalled tensorflow-2.13.0rc1\n",
      "Collecting tensorflow\n",
      "  Using cached tensorflow-2.13.0rc2-cp310-cp310-macosx_12_0_arm64.whl (2.0 kB)\n",
      "INFO: pip is looking at multiple versions of tensorflow to determine which version is compatible with other requirements. This could take a while.\n",
      "  Using cached tensorflow-2.13.0rc1-cp310-cp310-macosx_12_0_arm64.whl (2.0 kB)\n",
      "Requirement already satisfied: tensorflow-macos==2.13.0-rc1 in /Users/charan/anaconda3/lib/python3.10/site-packages (from tensorflow) (2.13.0rc1)\n",
      "Requirement already satisfied: absl-py>=1.0.0 in /Users/charan/anaconda3/lib/python3.10/site-packages (from tensorflow-macos==2.13.0-rc1->tensorflow) (1.4.0)\n",
      "Requirement already satisfied: astunparse>=1.6.0 in /Users/charan/anaconda3/lib/python3.10/site-packages (from tensorflow-macos==2.13.0-rc1->tensorflow) (1.6.3)\n",
      "Requirement already satisfied: flatbuffers>=23.1.21 in /Users/charan/anaconda3/lib/python3.10/site-packages (from tensorflow-macos==2.13.0-rc1->tensorflow) (23.5.26)\n",
      "Requirement already satisfied: gast<=0.4.0,>=0.2.1 in /Users/charan/anaconda3/lib/python3.10/site-packages (from tensorflow-macos==2.13.0-rc1->tensorflow) (0.4.0)\n",
      "Requirement already satisfied: google-pasta>=0.1.1 in /Users/charan/anaconda3/lib/python3.10/site-packages (from tensorflow-macos==2.13.0-rc1->tensorflow) (0.2.0)\n",
      "Requirement already satisfied: h5py>=2.9.0 in /Users/charan/anaconda3/lib/python3.10/site-packages (from tensorflow-macos==2.13.0-rc1->tensorflow) (3.7.0)\n",
      "Requirement already satisfied: libclang>=13.0.0 in /Users/charan/anaconda3/lib/python3.10/site-packages (from tensorflow-macos==2.13.0-rc1->tensorflow) (16.0.0)\n",
      "Requirement already satisfied: numpy>=1.22 in /Users/charan/anaconda3/lib/python3.10/site-packages (from tensorflow-macos==2.13.0-rc1->tensorflow) (1.23.5)\n",
      "Requirement already satisfied: opt-einsum>=2.3.2 in /Users/charan/anaconda3/lib/python3.10/site-packages (from tensorflow-macos==2.13.0-rc1->tensorflow) (3.3.0)\n",
      "Requirement already satisfied: packaging in /Users/charan/anaconda3/lib/python3.10/site-packages (from tensorflow-macos==2.13.0-rc1->tensorflow) (22.0)\n",
      "Requirement already satisfied: protobuf!=4.21.0,!=4.21.1,!=4.21.2,!=4.21.3,!=4.21.4,!=4.21.5,<5.0.0dev,>=3.20.3 in /Users/charan/anaconda3/lib/python3.10/site-packages (from tensorflow-macos==2.13.0-rc1->tensorflow) (4.23.3)\n",
      "Requirement already satisfied: setuptools in /Users/charan/anaconda3/lib/python3.10/site-packages (from tensorflow-macos==2.13.0-rc1->tensorflow) (65.6.3)\n",
      "Requirement already satisfied: six>=1.12.0 in /Users/charan/anaconda3/lib/python3.10/site-packages (from tensorflow-macos==2.13.0-rc1->tensorflow) (1.16.0)\n",
      "Requirement already satisfied: termcolor>=1.1.0 in /Users/charan/anaconda3/lib/python3.10/site-packages (from tensorflow-macos==2.13.0-rc1->tensorflow) (2.3.0)\n",
      "Requirement already satisfied: typing-extensions>=3.6.6 in /Users/charan/anaconda3/lib/python3.10/site-packages (from tensorflow-macos==2.13.0-rc1->tensorflow) (4.4.0)\n",
      "Requirement already satisfied: wrapt>=1.11.0 in /Users/charan/anaconda3/lib/python3.10/site-packages (from tensorflow-macos==2.13.0-rc1->tensorflow) (1.14.1)\n",
      "Requirement already satisfied: grpcio<2.0,>=1.24.3 in /Users/charan/anaconda3/lib/python3.10/site-packages (from tensorflow-macos==2.13.0-rc1->tensorflow) (1.56.0)\n",
      "Requirement already satisfied: tensorboard<2.14,>=2.13 in /Users/charan/anaconda3/lib/python3.10/site-packages (from tensorflow-macos==2.13.0-rc1->tensorflow) (2.13.0)\n",
      "Requirement already satisfied: tensorflow-estimator<2.14,>=2.13.0rc0 in /Users/charan/anaconda3/lib/python3.10/site-packages (from tensorflow-macos==2.13.0-rc1->tensorflow) (2.13.0rc0)\n",
      "Requirement already satisfied: keras<2.14,>=2.13.1rc0 in /Users/charan/anaconda3/lib/python3.10/site-packages (from tensorflow-macos==2.13.0-rc1->tensorflow) (2.13.1rc0)\n",
      "Requirement already satisfied: wheel<1.0,>=0.23.0 in /Users/charan/anaconda3/lib/python3.10/site-packages (from astunparse>=1.6.0->tensorflow-macos==2.13.0-rc1->tensorflow) (0.38.4)\n",
      "Requirement already satisfied: google-auth<3,>=1.6.3 in /Users/charan/anaconda3/lib/python3.10/site-packages (from tensorboard<2.14,>=2.13->tensorflow-macos==2.13.0-rc1->tensorflow) (2.20.0)\n",
      "Requirement already satisfied: google-auth-oauthlib<1.1,>=0.5 in /Users/charan/anaconda3/lib/python3.10/site-packages (from tensorboard<2.14,>=2.13->tensorflow-macos==2.13.0-rc1->tensorflow) (1.0.0)\n",
      "Requirement already satisfied: markdown>=2.6.8 in /Users/charan/anaconda3/lib/python3.10/site-packages (from tensorboard<2.14,>=2.13->tensorflow-macos==2.13.0-rc1->tensorflow) (3.4.1)\n",
      "Requirement already satisfied: requests<3,>=2.21.0 in /Users/charan/anaconda3/lib/python3.10/site-packages (from tensorboard<2.14,>=2.13->tensorflow-macos==2.13.0-rc1->tensorflow) (2.28.1)\n",
      "Requirement already satisfied: tensorboard-data-server<0.8.0,>=0.7.0 in /Users/charan/anaconda3/lib/python3.10/site-packages (from tensorboard<2.14,>=2.13->tensorflow-macos==2.13.0-rc1->tensorflow) (0.7.1)\n",
      "Requirement already satisfied: werkzeug>=1.0.1 in /Users/charan/anaconda3/lib/python3.10/site-packages (from tensorboard<2.14,>=2.13->tensorflow-macos==2.13.0-rc1->tensorflow) (2.2.2)\n",
      "Requirement already satisfied: cachetools<6.0,>=2.0.0 in /Users/charan/anaconda3/lib/python3.10/site-packages (from google-auth<3,>=1.6.3->tensorboard<2.14,>=2.13->tensorflow-macos==2.13.0-rc1->tensorflow) (5.3.1)\n",
      "Requirement already satisfied: pyasn1-modules>=0.2.1 in /Users/charan/anaconda3/lib/python3.10/site-packages (from google-auth<3,>=1.6.3->tensorboard<2.14,>=2.13->tensorflow-macos==2.13.0-rc1->tensorflow) (0.2.8)\n",
      "Requirement already satisfied: rsa<5,>=3.1.4 in /Users/charan/anaconda3/lib/python3.10/site-packages (from google-auth<3,>=1.6.3->tensorboard<2.14,>=2.13->tensorflow-macos==2.13.0-rc1->tensorflow) (4.9)\n",
      "Requirement already satisfied: urllib3<2.0 in /Users/charan/anaconda3/lib/python3.10/site-packages (from google-auth<3,>=1.6.3->tensorboard<2.14,>=2.13->tensorflow-macos==2.13.0-rc1->tensorflow) (1.26.14)\n",
      "Requirement already satisfied: requests-oauthlib>=0.7.0 in /Users/charan/anaconda3/lib/python3.10/site-packages (from google-auth-oauthlib<1.1,>=0.5->tensorboard<2.14,>=2.13->tensorflow-macos==2.13.0-rc1->tensorflow) (1.3.1)\n",
      "Requirement already satisfied: charset-normalizer<3,>=2 in /Users/charan/anaconda3/lib/python3.10/site-packages (from requests<3,>=2.21.0->tensorboard<2.14,>=2.13->tensorflow-macos==2.13.0-rc1->tensorflow) (2.0.4)\n",
      "Requirement already satisfied: idna<4,>=2.5 in /Users/charan/anaconda3/lib/python3.10/site-packages (from requests<3,>=2.21.0->tensorboard<2.14,>=2.13->tensorflow-macos==2.13.0-rc1->tensorflow) (3.4)\n",
      "Requirement already satisfied: certifi>=2017.4.17 in /Users/charan/anaconda3/lib/python3.10/site-packages (from requests<3,>=2.21.0->tensorboard<2.14,>=2.13->tensorflow-macos==2.13.0-rc1->tensorflow) (2023.5.7)\n",
      "Requirement already satisfied: MarkupSafe>=2.1.1 in /Users/charan/anaconda3/lib/python3.10/site-packages (from werkzeug>=1.0.1->tensorboard<2.14,>=2.13->tensorflow-macos==2.13.0-rc1->tensorflow) (2.1.1)\n",
      "Requirement already satisfied: pyasn1<0.5.0,>=0.4.6 in /Users/charan/anaconda3/lib/python3.10/site-packages (from pyasn1-modules>=0.2.1->google-auth<3,>=1.6.3->tensorboard<2.14,>=2.13->tensorflow-macos==2.13.0-rc1->tensorflow) (0.4.8)\n",
      "Requirement already satisfied: oauthlib>=3.0.0 in /Users/charan/anaconda3/lib/python3.10/site-packages (from requests-oauthlib>=0.7.0->google-auth-oauthlib<1.1,>=0.5->tensorboard<2.14,>=2.13->tensorflow-macos==2.13.0-rc1->tensorflow) (3.2.2)\n",
      "Installing collected packages: tensorflow\n",
      "Successfully installed tensorflow-2.13.0rc1\n"
     ]
    }
   ],
   "source": [
    "!pip install --upgrade pip\n",
    "!pip uninstall tensorflow --y\n",
    "!pip install tensorflow"
   ]
  },
  {
   "cell_type": "markdown",
   "metadata": {},
   "source": [
    "In case you  dont want to work with GPU uncommenr the following cell"
   ]
  },
  {
   "cell_type": "code",
   "execution_count": 8,
   "metadata": {},
   "outputs": [],
   "source": [
    "import os\n",
    "os.environ['TF_CPP_MIN_LOG_LEVEL'] = '2'\n",
    "os.environ['CUDA_VISIBLE_DEVICES'] = '-1'"
   ]
  },
  {
   "cell_type": "markdown",
   "metadata": {},
   "source": [
    "Import the labraries as pandas to load the csv file, numpy for the seed, keras and tensorflow the framework for generate the machine learning methods as neurnal networks, and sklearn for the metrics."
   ]
  },
  {
   "cell_type": "code",
   "execution_count": 9,
   "metadata": {},
   "outputs": [],
   "source": [
    "# load csv file\n",
    "import pandas as pd\n",
    "\n",
    "# numpy to the seed \n",
    "import numpy as np\n",
    "\n",
    "# load csv fileframework to neural networks\n",
    "import tensorflow as tf\n",
    "\n",
    "#Method forthe  neural network\n",
    "from keras.regularizers import l2\n",
    "from keras.models import Sequential\n",
    "from keras.layers import Dense, Dropout\n",
    "\n",
    "#save as image the model summary\n",
    "from tensorflow.keras.utils import plot_model\n",
    "\n",
    "# librariesto plot\n",
    "import matplotlib.pyplot as plt\n",
    "%matplotlib inline  \n",
    "import seaborn as sns\n",
    "\n",
    "from sklearn.metrics import confusion_matrix, roc_curve, auc\n",
    "from sklearn.preprocessing import StandardScaler\n",
    "\n",
    "# demonstration of calculating metrics for a neural network model using sklearn\n",
    "from sklearn.metrics import accuracy_score\n",
    "from sklearn.metrics import precision_score\n",
    "from sklearn.metrics import recall_score\n",
    "from sklearn.metrics import f1_score\n",
    "from sklearn.metrics import cohen_kappa_score\n",
    "from sklearn.metrics import roc_auc_score\n",
    "\n",
    "import warnings\n",
    "warnings.filterwarnings(\"ignore\", category=DeprecationWarning) "
   ]
  },
  {
   "cell_type": "markdown",
   "metadata": {},
   "source": [
    "Load the train and test sets from the Data analysis module"
   ]
  },
  {
   "cell_type": "code",
   "execution_count": 10,
   "metadata": {},
   "outputs": [
    {
     "data": {
      "text/plain": [
       "(((2000, 16), (2000,)), ((6159, 16), (6159,)))"
      ]
     },
     "execution_count": 10,
     "metadata": {},
     "output_type": "execute_result"
    }
   ],
   "source": [
    "data_train = pd.read_csv(\"/Users/charan/Downloads/Quantum-Supply-Chain-Manager-main/dataset/fair_train.csv\")\n",
    "X_train,y_train = data_train[data_train.columns[:16]].values, data_train[data_train.columns[16]].values\n",
    "\n",
    "data_test = pd.read_csv(\"/Users/charan/Downloads/Quantum-Supply-Chain-Manager-main/dataset/classic_test.csv\")\n",
    "X_test,y_test = data_test[data_test.columns[:16]].values, data_test[data_test.columns[16]].values\n",
    "\n",
    "(X_train.shape, y_train.shape),(X_test.shape, y_test.shape)"
   ]
  },
  {
   "cell_type": "markdown",
   "metadata": {},
   "source": [
    "###### Random seed for reproducibility\n",
    "\n",
    "In the same case of reproducing the code it is important to consider the numpy seed, for this purpose the following cell is used"
   ]
  },
  {
   "cell_type": "code",
   "execution_count": 11,
   "metadata": {},
   "outputs": [],
   "source": [
    "np.random.seed(123)\n",
    "tf.random.set_seed(123)"
   ]
  },
  {
   "cell_type": "markdown",
   "metadata": {},
   "source": [
    "For neuran networks is important to normalize and check the distribution of the variables for that exist the variable StandarScaler that \n",
    "    - Scaling by Normalization or min-max scaling\n",
    "    - Scaling by mean and standard deviation or standardization\n",
    "    \n",
    "1. StandardScaler is a function used to standardize the data .\n",
    "2. Standardized value for x is computed as (x-mean(column))/standard deviation(column). "
   ]
  },
  {
   "cell_type": "code",
   "execution_count": 12,
   "metadata": {},
   "outputs": [],
   "source": [
    "scale = StandardScaler()"
   ]
  },
  {
   "cell_type": "code",
   "execution_count": 14,
   "metadata": {},
   "outputs": [
    {
     "data": {
      "text/html": [
       "<style>#sk-container-id-2 {color: black;background-color: white;}#sk-container-id-2 pre{padding: 0;}#sk-container-id-2 div.sk-toggleable {background-color: white;}#sk-container-id-2 label.sk-toggleable__label {cursor: pointer;display: block;width: 100%;margin-bottom: 0;padding: 0.3em;box-sizing: border-box;text-align: center;}#sk-container-id-2 label.sk-toggleable__label-arrow:before {content: \"▸\";float: left;margin-right: 0.25em;color: #696969;}#sk-container-id-2 label.sk-toggleable__label-arrow:hover:before {color: black;}#sk-container-id-2 div.sk-estimator:hover label.sk-toggleable__label-arrow:before {color: black;}#sk-container-id-2 div.sk-toggleable__content {max-height: 0;max-width: 0;overflow: hidden;text-align: left;background-color: #f0f8ff;}#sk-container-id-2 div.sk-toggleable__content pre {margin: 0.2em;color: black;border-radius: 0.25em;background-color: #f0f8ff;}#sk-container-id-2 input.sk-toggleable__control:checked~div.sk-toggleable__content {max-height: 200px;max-width: 100%;overflow: auto;}#sk-container-id-2 input.sk-toggleable__control:checked~label.sk-toggleable__label-arrow:before {content: \"▾\";}#sk-container-id-2 div.sk-estimator input.sk-toggleable__control:checked~label.sk-toggleable__label {background-color: #d4ebff;}#sk-container-id-2 div.sk-label input.sk-toggleable__control:checked~label.sk-toggleable__label {background-color: #d4ebff;}#sk-container-id-2 input.sk-hidden--visually {border: 0;clip: rect(1px 1px 1px 1px);clip: rect(1px, 1px, 1px, 1px);height: 1px;margin: -1px;overflow: hidden;padding: 0;position: absolute;width: 1px;}#sk-container-id-2 div.sk-estimator {font-family: monospace;background-color: #f0f8ff;border: 1px dotted black;border-radius: 0.25em;box-sizing: border-box;margin-bottom: 0.5em;}#sk-container-id-2 div.sk-estimator:hover {background-color: #d4ebff;}#sk-container-id-2 div.sk-parallel-item::after {content: \"\";width: 100%;border-bottom: 1px solid gray;flex-grow: 1;}#sk-container-id-2 div.sk-label:hover label.sk-toggleable__label {background-color: #d4ebff;}#sk-container-id-2 div.sk-serial::before {content: \"\";position: absolute;border-left: 1px solid gray;box-sizing: border-box;top: 0;bottom: 0;left: 50%;z-index: 0;}#sk-container-id-2 div.sk-serial {display: flex;flex-direction: column;align-items: center;background-color: white;padding-right: 0.2em;padding-left: 0.2em;position: relative;}#sk-container-id-2 div.sk-item {position: relative;z-index: 1;}#sk-container-id-2 div.sk-parallel {display: flex;align-items: stretch;justify-content: center;background-color: white;position: relative;}#sk-container-id-2 div.sk-item::before, #sk-container-id-2 div.sk-parallel-item::before {content: \"\";position: absolute;border-left: 1px solid gray;box-sizing: border-box;top: 0;bottom: 0;left: 50%;z-index: -1;}#sk-container-id-2 div.sk-parallel-item {display: flex;flex-direction: column;z-index: 1;position: relative;background-color: white;}#sk-container-id-2 div.sk-parallel-item:first-child::after {align-self: flex-end;width: 50%;}#sk-container-id-2 div.sk-parallel-item:last-child::after {align-self: flex-start;width: 50%;}#sk-container-id-2 div.sk-parallel-item:only-child::after {width: 0;}#sk-container-id-2 div.sk-dashed-wrapped {border: 1px dashed gray;margin: 0 0.4em 0.5em 0.4em;box-sizing: border-box;padding-bottom: 0.4em;background-color: white;}#sk-container-id-2 div.sk-label label {font-family: monospace;font-weight: bold;display: inline-block;line-height: 1.2em;}#sk-container-id-2 div.sk-label-container {text-align: center;}#sk-container-id-2 div.sk-container {/* jupyter's `normalize.less` sets `[hidden] { display: none; }` but bootstrap.min.css set `[hidden] { display: none !important; }` so we also need the `!important` here to be able to override the default hidden behavior on the sphinx rendered scikit-learn.org. See: https://github.com/scikit-learn/scikit-learn/issues/21755 */display: inline-block !important;position: relative;}#sk-container-id-2 div.sk-text-repr-fallback {display: none;}</style><div id=\"sk-container-id-2\" class=\"sk-top-container\"><div class=\"sk-text-repr-fallback\"><pre>StandardScaler()</pre><b>In a Jupyter environment, please rerun this cell to show the HTML representation or trust the notebook. <br />On GitHub, the HTML representation is unable to render, please try loading this page with nbviewer.org.</b></div><div class=\"sk-container\" hidden><div class=\"sk-item\"><div class=\"sk-estimator sk-toggleable\"><input class=\"sk-toggleable__control sk-hidden--visually\" id=\"sk-estimator-id-2\" type=\"checkbox\" checked><label for=\"sk-estimator-id-2\" class=\"sk-toggleable__label sk-toggleable__label-arrow\">StandardScaler</label><div class=\"sk-toggleable__content\"><pre>StandardScaler()</pre></div></div></div></div></div>"
      ],
      "text/plain": [
       "StandardScaler()"
      ]
     },
     "execution_count": 14,
     "metadata": {},
     "output_type": "execute_result"
    }
   ],
   "source": [
    "scale.fit(X_train)"
   ]
  },
  {
   "cell_type": "markdown",
   "metadata": {},
   "source": [
    "Apply the StandardScaler to the train and test sets"
   ]
  },
  {
   "cell_type": "code",
   "execution_count": 15,
   "metadata": {},
   "outputs": [],
   "source": [
    "X_train_std = scale.transform(X_train)\n",
    "X_test_std = scale.transform(X_test)"
   ]
  },
  {
   "cell_type": "markdown",
   "metadata": {},
   "source": [
    "Check the values after that"
   ]
  },
  {
   "cell_type": "code",
   "execution_count": 16,
   "metadata": {},
   "outputs": [
    {
     "data": {
      "text/plain": [
       "(array([-0.08878785,  0.99245064, -0.07217543, -0.12087906, -0.13114244,\n",
       "        -0.1312855 , -0.08861196, -0.08968266, -0.09519565, -0.10915324,\n",
       "        -0.07271837, -0.07898323,  0.27210453,  0.19214586, -0.09095412,\n",
       "         0.3788279 ]),\n",
       " 0)"
      ]
     },
     "execution_count": 16,
     "metadata": {},
     "output_type": "execute_result"
    }
   ],
   "source": [
    "X_train_std[1], y_train[1]"
   ]
  },
  {
   "cell_type": "code",
   "execution_count": 17,
   "metadata": {},
   "outputs": [
    {
     "data": {
      "image/png": "[encoded data removed]",
      "text/plain": [
       "<IPython.core.display.Image object>"
      ]
     },
     "execution_count": 17,
     "metadata": {},
     "output_type": "execute_result"
    }
   ],
   "source": [
    "model = Sequential()\n",
    "\n",
    "model.add(Dense(25, input_dim=16, activation='relu', kernel_regularizer=l2(1e-6),kernel_initializer=\"glorot_normal\"))\n",
    "model.add(Dropout(0.5))\n",
    "model.add(Dense(8, activation='relu',kernel_regularizer=l2(1e-6), kernel_initializer=\"glorot_normal\"))\n",
    "model.add(Dropout(0.5))\n",
    "\n",
    "model.add(Dense(1, activation='sigmoid',kernel_regularizer=l2(1e-6), kernel_initializer=\"glorot_normal\"))\n",
    "\n",
    "plot_model(model, to_file='model_plot.png', show_shapes=True, show_layer_names=True)"
   ]
  },
  {
   "cell_type": "markdown",
   "metadata": {},
   "source": [
    "Since they are unbalanced values, it is common to deal with the Area under the ROC Curve(AUC)\n",
    "\n",
    "this works  using True Positive Rate and False Positive Rate, where they are defined as :\n",
    "\n",
    "- **True Positive Rate (TPR)** is a synonym for recall and is therefore defined as follows:\n",
    "$$\n",
    "T P R=\\frac{T P}{T P+F N}\n",
    "$$\n",
    "- **False Positive Rate (FPR)** is defined as follows:\n",
    "$$\n",
    "F P R=\\frac{F P}{F P+T N}\n",
    "$$\n",
    "\n",
    "metric instead of accuracy, therefore both were selected to train the model with the Adam optimizer. Using binary crossentropy because is a binary classification \n",
    "\n",
    "$$\\operatorname{Loss}=-\\frac{1}{\\begin{array}{c}\n",
    "\\text { output } \\\\\n",
    "\\text { size }\n",
    "\\end{array}} \\sum_{i=1}^{\\substack{\\text { output } \\\\\n",
    "\\text { size }}} y_{i} \\cdot \\log \\hat{y}_{i}+\\left(1-y_{i}\\right) \\cdot \\log \\left(1-\\hat{y}_{i}\\right).\n",
    "$$"
   ]
  },
  {
   "cell_type": "code",
   "execution_count": 18,
   "metadata": {},
   "outputs": [],
   "source": [
    "# Compile model\n",
    "auc = tf.keras.metrics.AUC()\n",
    "model.compile(loss='binary_crossentropy', optimizer=\"Adam\", metrics=['accuracy',auc])"
   ]
  },
  {
   "cell_type": "markdown",
   "metadata": {},
   "source": [
    "Using 100 epochs a batch size of 32, with a validation split of 0.2 of the  train data"
   ]
  },
  {
   "cell_type": "code",
   "execution_count": 19,
   "metadata": {},
   "outputs": [
    {
     "name": "stdout",
     "output_type": "stream",
     "text": [
      "Epoch 1/100\n",
      "44/44 [==============================] - 0s 2ms/step - loss: 0.7390 - accuracy: 0.6293 - auc: 0.4867 - val_loss: 0.9661 - val_accuracy: 0.0550 - val_auc: 0.0000e+00\n",
      "Epoch 2/100\n",
      "44/44 [==============================] - 0s 679us/step - loss: 0.6854 - accuracy: 0.6700 - auc: 0.5128 - val_loss: 1.0113 - val_accuracy: 0.0217 - val_auc: 0.0000e+00\n",
      "Epoch 3/100\n",
      "44/44 [==============================] - 0s 622us/step - loss: 0.6712 - accuracy: 0.6864 - auc: 0.5145 - val_loss: 1.0324 - val_accuracy: 0.0233 - val_auc: 0.0000e+00\n",
      "Epoch 4/100\n",
      "44/44 [==============================] - 0s 609us/step - loss: 0.6603 - accuracy: 0.6921 - auc: 0.5119 - val_loss: 1.0137 - val_accuracy: 0.0233 - val_auc: 0.0000e+00\n",
      "Epoch 5/100\n",
      "44/44 [==============================] - 0s 602us/step - loss: 0.6376 - accuracy: 0.6950 - auc: 0.5266 - val_loss: 1.0122 - val_accuracy: 0.0217 - val_auc: 0.0000e+00\n",
      "Epoch 6/100\n",
      "44/44 [==============================] - 0s 577us/step - loss: 0.6254 - accuracy: 0.7029 - auc: 0.5588 - val_loss: 1.0294 - val_accuracy: 0.0183 - val_auc: 0.0000e+00\n",
      "Epoch 7/100\n",
      "44/44 [==============================] - 0s 579us/step - loss: 0.6148 - accuracy: 0.7050 - auc: 0.5603 - val_loss: 1.0296 - val_accuracy: 0.0183 - val_auc: 0.0000e+00\n",
      "Epoch 8/100\n",
      "44/44 [==============================] - 0s 580us/step - loss: 0.6294 - accuracy: 0.7079 - auc: 0.5497 - val_loss: 1.0372 - val_accuracy: 0.0167 - val_auc: 0.0000e+00\n",
      "Epoch 9/100\n",
      "44/44 [==============================] - 0s 589us/step - loss: 0.6219 - accuracy: 0.7086 - auc: 0.5393 - val_loss: 1.0411 - val_accuracy: 0.0167 - val_auc: 0.0000e+00\n",
      "Epoch 10/100\n",
      "44/44 [==============================] - 0s 582us/step - loss: 0.6095 - accuracy: 0.7050 - auc: 0.5750 - val_loss: 1.0505 - val_accuracy: 0.0167 - val_auc: 0.0000e+00\n",
      "Epoch 11/100\n",
      "44/44 [==============================] - 0s 572us/step - loss: 0.5965 - accuracy: 0.7114 - auc: 0.5888 - val_loss: 1.0697 - val_accuracy: 0.0167 - val_auc: 0.0000e+00\n",
      "Epoch 12/100\n",
      "44/44 [==============================] - 0s 573us/step - loss: 0.6004 - accuracy: 0.7114 - auc: 0.5978 - val_loss: 1.0576 - val_accuracy: 0.0167 - val_auc: 0.0000e+00\n",
      "Epoch 13/100\n",
      "44/44 [==============================] - 0s 580us/step - loss: 0.6057 - accuracy: 0.7121 - auc: 0.5852 - val_loss: 1.0528 - val_accuracy: 0.0167 - val_auc: 0.0000e+00\n",
      "Epoch 14/100\n",
      "44/44 [==============================] - 0s 590us/step - loss: 0.6012 - accuracy: 0.7086 - auc: 0.6069 - val_loss: 1.0699 - val_accuracy: 0.0167 - val_auc: 0.0000e+00\n",
      "Epoch 15/100\n",
      "44/44 [==============================] - 0s 608us/step - loss: 0.5997 - accuracy: 0.7114 - auc: 0.5873 - val_loss: 1.0722 - val_accuracy: 0.0167 - val_auc: 0.0000e+00\n",
      "Epoch 16/100\n",
      "44/44 [==============================] - 0s 614us/step - loss: 0.5902 - accuracy: 0.7136 - auc: 0.6246 - val_loss: 1.0967 - val_accuracy: 0.0150 - val_auc: 0.0000e+00\n",
      "Epoch 17/100\n",
      "44/44 [==============================] - 0s 613us/step - loss: 0.5953 - accuracy: 0.7171 - auc: 0.5991 - val_loss: 1.0859 - val_accuracy: 0.0150 - val_auc: 0.0000e+00\n",
      "Epoch 18/100\n",
      "44/44 [==============================] - 0s 607us/step - loss: 0.5835 - accuracy: 0.7136 - auc: 0.6128 - val_loss: 1.0948 - val_accuracy: 0.0150 - val_auc: 0.0000e+00\n",
      "Epoch 19/100\n",
      "44/44 [==============================] - 0s 603us/step - loss: 0.5887 - accuracy: 0.7150 - auc: 0.6031 - val_loss: 1.0959 - val_accuracy: 0.0150 - val_auc: 0.0000e+00\n",
      "Epoch 20/100\n",
      "44/44 [==============================] - 0s 610us/step - loss: 0.5888 - accuracy: 0.7171 - auc: 0.6055 - val_loss: 1.0893 - val_accuracy: 0.0150 - val_auc: 0.0000e+00\n",
      "Epoch 21/100\n",
      "44/44 [==============================] - 0s 608us/step - loss: 0.5962 - accuracy: 0.7121 - auc: 0.5766 - val_loss: 1.0849 - val_accuracy: 0.0150 - val_auc: 0.0000e+00\n",
      "Epoch 22/100\n",
      "44/44 [==============================] - 0s 627us/step - loss: 0.5847 - accuracy: 0.7143 - auc: 0.6168 - val_loss: 1.0908 - val_accuracy: 0.0150 - val_auc: 0.0000e+00\n",
      "Epoch 23/100\n",
      "44/44 [==============================] - 0s 700us/step - loss: 0.5935 - accuracy: 0.7157 - auc: 0.5969 - val_loss: 1.0932 - val_accuracy: 0.0150 - val_auc: 0.0000e+00\n",
      "Epoch 24/100\n",
      "44/44 [==============================] - 0s 615us/step - loss: 0.5837 - accuracy: 0.7114 - auc: 0.6146 - val_loss: 1.0917 - val_accuracy: 0.0150 - val_auc: 0.0000e+00\n",
      "Epoch 25/100\n",
      "44/44 [==============================] - 0s 621us/step - loss: 0.5784 - accuracy: 0.7150 - auc: 0.6201 - val_loss: 1.1027 - val_accuracy: 0.0150 - val_auc: 0.0000e+00\n",
      "Epoch 26/100\n",
      "44/44 [==============================] - 0s 593us/step - loss: 0.5859 - accuracy: 0.7164 - auc: 0.6168 - val_loss: 1.1012 - val_accuracy: 0.0150 - val_auc: 0.0000e+00\n",
      "Epoch 27/100\n",
      "44/44 [==============================] - 0s 599us/step - loss: 0.5823 - accuracy: 0.7121 - auc: 0.6033 - val_loss: 1.1086 - val_accuracy: 0.0150 - val_auc: 0.0000e+00\n",
      "Epoch 28/100\n",
      "44/44 [==============================] - 0s 585us/step - loss: 0.5791 - accuracy: 0.7164 - auc: 0.6103 - val_loss: 1.1125 - val_accuracy: 0.0150 - val_auc: 0.0000e+00\n",
      "Epoch 29/100\n",
      "44/44 [==============================] - 0s 609us/step - loss: 0.5821 - accuracy: 0.7157 - auc: 0.6060 - val_loss: 1.1148 - val_accuracy: 0.0150 - val_auc: 0.0000e+00\n",
      "Epoch 30/100\n",
      "44/44 [==============================] - 0s 614us/step - loss: 0.5689 - accuracy: 0.7179 - auc: 0.6501 - val_loss: 1.1150 - val_accuracy: 0.0150 - val_auc: 0.0000e+00\n",
      "Epoch 31/100\n",
      "44/44 [==============================] - 0s 608us/step - loss: 0.5728 - accuracy: 0.7164 - auc: 0.6399 - val_loss: 1.1184 - val_accuracy: 0.0150 - val_auc: 0.0000e+00\n",
      "Epoch 32/100\n",
      "44/44 [==============================] - 0s 598us/step - loss: 0.5730 - accuracy: 0.7164 - auc: 0.6316 - val_loss: 1.1222 - val_accuracy: 0.0150 - val_auc: 0.0000e+00\n",
      "Epoch 33/100\n",
      "44/44 [==============================] - 0s 606us/step - loss: 0.5757 - accuracy: 0.7114 - auc: 0.6431 - val_loss: 1.1323 - val_accuracy: 0.0150 - val_auc: 0.0000e+00\n",
      "Epoch 34/100\n",
      "44/44 [==============================] - 0s 607us/step - loss: 0.5705 - accuracy: 0.7179 - auc: 0.6359 - val_loss: 1.1318 - val_accuracy: 0.0150 - val_auc: 0.0000e+00\n",
      "Epoch 35/100\n",
      "44/44 [==============================] - 0s 623us/step - loss: 0.5706 - accuracy: 0.7186 - auc: 0.6367 - val_loss: 1.1266 - val_accuracy: 0.0150 - val_auc: 0.0000e+00\n",
      "Epoch 36/100\n",
      "44/44 [==============================] - 0s 617us/step - loss: 0.5669 - accuracy: 0.7129 - auc: 0.6525 - val_loss: 1.1216 - val_accuracy: 0.0150 - val_auc: 0.0000e+00\n",
      "Epoch 37/100\n",
      "44/44 [==============================] - 0s 607us/step - loss: 0.5712 - accuracy: 0.7129 - auc: 0.6466 - val_loss: 1.1261 - val_accuracy: 0.0150 - val_auc: 0.0000e+00\n",
      "Epoch 38/100\n",
      "44/44 [==============================] - 0s 610us/step - loss: 0.5658 - accuracy: 0.7171 - auc: 0.6631 - val_loss: 1.1379 - val_accuracy: 0.0150 - val_auc: 0.0000e+00\n",
      "Epoch 39/100\n",
      "44/44 [==============================] - 0s 614us/step - loss: 0.5644 - accuracy: 0.7179 - auc: 0.6547 - val_loss: 1.1302 - val_accuracy: 0.0150 - val_auc: 0.0000e+00\n",
      "Epoch 40/100\n",
      "44/44 [==============================] - 0s 604us/step - loss: 0.5610 - accuracy: 0.7200 - auc: 0.6653 - val_loss: 1.1294 - val_accuracy: 0.0150 - val_auc: 0.0000e+00\n",
      "Epoch 41/100\n",
      "44/44 [==============================] - 0s 618us/step - loss: 0.5563 - accuracy: 0.7179 - auc: 0.6774 - val_loss: 1.1315 - val_accuracy: 0.0167 - val_auc: 0.0000e+00\n",
      "Epoch 42/100\n",
      "44/44 [==============================] - 0s 619us/step - loss: 0.5642 - accuracy: 0.7143 - auc: 0.6496 - val_loss: 1.1168 - val_accuracy: 0.0167 - val_auc: 0.0000e+00\n",
      "Epoch 43/100\n",
      "44/44 [==============================] - 0s 621us/step - loss: 0.5687 - accuracy: 0.7164 - auc: 0.6427 - val_loss: 1.0960 - val_accuracy: 0.0150 - val_auc: 0.0000e+00\n",
      "Epoch 44/100\n",
      "44/44 [==============================] - 0s 606us/step - loss: 0.5709 - accuracy: 0.7143 - auc: 0.6495 - val_loss: 1.1117 - val_accuracy: 0.0150 - val_auc: 0.0000e+00\n",
      "Epoch 45/100\n",
      "44/44 [==============================] - 0s 627us/step - loss: 0.5635 - accuracy: 0.7150 - auc: 0.6718 - val_loss: 1.1156 - val_accuracy: 0.0150 - val_auc: 0.0000e+00\n",
      "Epoch 46/100\n",
      "44/44 [==============================] - 0s 614us/step - loss: 0.5687 - accuracy: 0.7179 - auc: 0.6448 - val_loss: 1.1039 - val_accuracy: 0.0167 - val_auc: 0.0000e+00\n",
      "Epoch 47/100\n",
      "44/44 [==============================] - 0s 624us/step - loss: 0.5561 - accuracy: 0.7193 - auc: 0.6764 - val_loss: 1.1329 - val_accuracy: 0.0167 - val_auc: 0.0000e+00\n",
      "Epoch 48/100\n",
      "44/44 [==============================] - 0s 615us/step - loss: 0.5602 - accuracy: 0.7171 - auc: 0.6668 - val_loss: 1.1076 - val_accuracy: 0.0183 - val_auc: 0.0000e+00\n",
      "Epoch 49/100\n",
      "44/44 [==============================] - 0s 594us/step - loss: 0.5569 - accuracy: 0.7207 - auc: 0.6726 - val_loss: 1.1247 - val_accuracy: 0.0217 - val_auc: 0.0000e+00\n",
      "Epoch 50/100\n",
      "44/44 [==============================] - 0s 580us/step - loss: 0.5541 - accuracy: 0.7186 - auc: 0.6741 - val_loss: 1.1147 - val_accuracy: 0.0233 - val_auc: 0.0000e+00\n",
      "Epoch 51/100\n",
      "44/44 [==============================] - 0s 586us/step - loss: 0.5714 - accuracy: 0.7136 - auc: 0.6492 - val_loss: 1.1101 - val_accuracy: 0.0233 - val_auc: 0.0000e+00\n",
      "Epoch 52/100\n",
      "44/44 [==============================] - 0s 576us/step - loss: 0.5562 - accuracy: 0.7186 - auc: 0.6668 - val_loss: 1.1145 - val_accuracy: 0.0233 - val_auc: 0.0000e+00\n",
      "Epoch 53/100\n",
      "44/44 [==============================] - 0s 575us/step - loss: 0.5643 - accuracy: 0.7186 - auc: 0.6758 - val_loss: 1.0965 - val_accuracy: 0.0233 - val_auc: 0.0000e+00\n",
      "Epoch 54/100\n",
      "44/44 [==============================] - 0s 579us/step - loss: 0.5636 - accuracy: 0.7164 - auc: 0.6608 - val_loss: 1.0885 - val_accuracy: 0.0267 - val_auc: 0.0000e+00\n",
      "Epoch 55/100\n",
      "44/44 [==============================] - 0s 575us/step - loss: 0.5609 - accuracy: 0.7179 - auc: 0.6774 - val_loss: 1.0905 - val_accuracy: 0.0267 - val_auc: 0.0000e+00\n",
      "Epoch 56/100\n",
      "44/44 [==============================] - 0s 585us/step - loss: 0.5580 - accuracy: 0.7171 - auc: 0.6694 - val_loss: 1.0809 - val_accuracy: 0.0250 - val_auc: 0.0000e+00\n",
      "Epoch 57/100\n",
      "44/44 [==============================] - 0s 585us/step - loss: 0.5595 - accuracy: 0.7214 - auc: 0.6666 - val_loss: 1.0809 - val_accuracy: 0.0250 - val_auc: 0.0000e+00\n",
      "Epoch 58/100\n",
      "44/44 [==============================] - 0s 573us/step - loss: 0.5566 - accuracy: 0.7157 - auc: 0.6791 - val_loss: 1.1059 - val_accuracy: 0.0233 - val_auc: 0.0000e+00\n",
      "Epoch 59/100\n",
      "44/44 [==============================] - 0s 581us/step - loss: 0.5512 - accuracy: 0.7200 - auc: 0.6965 - val_loss: 1.1199 - val_accuracy: 0.0217 - val_auc: 0.0000e+00\n",
      "Epoch 60/100\n",
      "44/44 [==============================] - 0s 574us/step - loss: 0.5576 - accuracy: 0.7214 - auc: 0.6866 - val_loss: 1.0609 - val_accuracy: 0.0267 - val_auc: 0.0000e+00\n",
      "Epoch 61/100\n",
      "44/44 [==============================] - 0s 574us/step - loss: 0.5490 - accuracy: 0.7243 - auc: 0.6901 - val_loss: 1.1135 - val_accuracy: 0.0333 - val_auc: 0.0000e+00\n",
      "Epoch 62/100\n",
      "44/44 [==============================] - 0s 579us/step - loss: 0.5578 - accuracy: 0.7221 - auc: 0.6745 - val_loss: 1.1034 - val_accuracy: 0.0317 - val_auc: 0.0000e+00\n",
      "Epoch 63/100\n",
      "44/44 [==============================] - 0s 578us/step - loss: 0.5505 - accuracy: 0.7186 - auc: 0.6893 - val_loss: 1.0973 - val_accuracy: 0.0233 - val_auc: 0.0000e+00\n",
      "Epoch 64/100\n",
      "44/44 [==============================] - 0s 574us/step - loss: 0.5421 - accuracy: 0.7257 - auc: 0.7047 - val_loss: 1.0990 - val_accuracy: 0.0300 - val_auc: 0.0000e+00\n",
      "Epoch 65/100\n",
      "44/44 [==============================] - 0s 577us/step - loss: 0.5486 - accuracy: 0.7186 - auc: 0.6860 - val_loss: 1.0997 - val_accuracy: 0.0350 - val_auc: 0.0000e+00\n",
      "Epoch 66/100\n",
      "44/44 [==============================] - 0s 574us/step - loss: 0.5507 - accuracy: 0.7264 - auc: 0.6803 - val_loss: 1.0899 - val_accuracy: 0.0350 - val_auc: 0.0000e+00\n",
      "Epoch 67/100\n",
      "44/44 [==============================] - 0s 570us/step - loss: 0.5479 - accuracy: 0.7207 - auc: 0.6881 - val_loss: 1.0730 - val_accuracy: 0.0383 - val_auc: 0.0000e+00\n",
      "Epoch 68/100\n",
      "44/44 [==============================] - 0s 572us/step - loss: 0.5485 - accuracy: 0.7193 - auc: 0.6895 - val_loss: 1.0900 - val_accuracy: 0.0383 - val_auc: 0.0000e+00\n",
      "Epoch 69/100\n",
      "44/44 [==============================] - 0s 580us/step - loss: 0.5464 - accuracy: 0.7129 - auc: 0.6956 - val_loss: 1.1046 - val_accuracy: 0.0367 - val_auc: 0.0000e+00\n",
      "Epoch 70/100\n",
      "44/44 [==============================] - 0s 579us/step - loss: 0.5490 - accuracy: 0.7207 - auc: 0.6887 - val_loss: 1.0762 - val_accuracy: 0.0350 - val_auc: 0.0000e+00\n",
      "Epoch 71/100\n",
      "44/44 [==============================] - 0s 576us/step - loss: 0.5420 - accuracy: 0.7157 - auc: 0.7069 - val_loss: 1.1146 - val_accuracy: 0.0333 - val_auc: 0.0000e+00\n",
      "Epoch 72/100\n",
      "44/44 [==============================] - 0s 575us/step - loss: 0.5449 - accuracy: 0.7221 - auc: 0.6918 - val_loss: 1.1092 - val_accuracy: 0.0383 - val_auc: 0.0000e+00\n",
      "Epoch 73/100\n",
      "44/44 [==============================] - 0s 571us/step - loss: 0.5422 - accuracy: 0.7171 - auc: 0.7085 - val_loss: 1.1169 - val_accuracy: 0.0400 - val_auc: 0.0000e+00\n",
      "Epoch 74/100\n",
      "44/44 [==============================] - 0s 577us/step - loss: 0.5395 - accuracy: 0.7200 - auc: 0.7093 - val_loss: 1.0719 - val_accuracy: 0.0417 - val_auc: 0.0000e+00\n",
      "Epoch 75/100\n",
      "44/44 [==============================] - 0s 581us/step - loss: 0.5456 - accuracy: 0.7207 - auc: 0.6977 - val_loss: 1.0483 - val_accuracy: 0.0483 - val_auc: 0.0000e+00\n",
      "Epoch 76/100\n",
      "44/44 [==============================] - 0s 572us/step - loss: 0.5480 - accuracy: 0.7171 - auc: 0.6906 - val_loss: 1.0988 - val_accuracy: 0.0483 - val_auc: 0.0000e+00\n",
      "Epoch 77/100\n",
      "44/44 [==============================] - 0s 574us/step - loss: 0.5313 - accuracy: 0.7271 - auc: 0.7148 - val_loss: 1.0546 - val_accuracy: 0.0550 - val_auc: 0.0000e+00\n",
      "Epoch 78/100\n",
      "44/44 [==============================] - 0s 574us/step - loss: 0.5390 - accuracy: 0.7221 - auc: 0.7149 - val_loss: 1.0546 - val_accuracy: 0.0550 - val_auc: 0.0000e+00\n",
      "Epoch 79/100\n",
      "44/44 [==============================] - 0s 576us/step - loss: 0.5295 - accuracy: 0.7250 - auc: 0.7215 - val_loss: 1.0555 - val_accuracy: 0.0667 - val_auc: 0.0000e+00\n",
      "Epoch 80/100\n",
      "44/44 [==============================] - 0s 572us/step - loss: 0.5496 - accuracy: 0.7193 - auc: 0.6980 - val_loss: 1.0823 - val_accuracy: 0.0500 - val_auc: 0.0000e+00\n",
      "Epoch 81/100\n",
      "44/44 [==============================] - 0s 576us/step - loss: 0.5314 - accuracy: 0.7229 - auc: 0.7251 - val_loss: 1.0684 - val_accuracy: 0.0483 - val_auc: 0.0000e+00\n",
      "Epoch 82/100\n",
      "44/44 [==============================] - 0s 576us/step - loss: 0.5307 - accuracy: 0.7307 - auc: 0.7174 - val_loss: 1.0743 - val_accuracy: 0.0500 - val_auc: 0.0000e+00\n",
      "Epoch 83/100\n",
      "44/44 [==============================] - 0s 576us/step - loss: 0.5442 - accuracy: 0.7193 - auc: 0.7106 - val_loss: 1.1036 - val_accuracy: 0.0533 - val_auc: 0.0000e+00\n",
      "Epoch 84/100\n",
      "44/44 [==============================] - 0s 572us/step - loss: 0.5281 - accuracy: 0.7286 - auc: 0.7258 - val_loss: 1.0730 - val_accuracy: 0.0533 - val_auc: 0.0000e+00\n",
      "Epoch 85/100\n",
      "44/44 [==============================] - 0s 572us/step - loss: 0.5341 - accuracy: 0.7250 - auc: 0.7129 - val_loss: 1.0724 - val_accuracy: 0.0667 - val_auc: 0.0000e+00\n",
      "Epoch 86/100\n",
      "44/44 [==============================] - 0s 572us/step - loss: 0.5442 - accuracy: 0.7157 - auc: 0.7042 - val_loss: 1.0466 - val_accuracy: 0.0717 - val_auc: 0.0000e+00\n",
      "Epoch 87/100\n",
      "44/44 [==============================] - 0s 566us/step - loss: 0.5268 - accuracy: 0.7257 - auc: 0.7297 - val_loss: 1.0612 - val_accuracy: 0.0567 - val_auc: 0.0000e+00\n",
      "Epoch 88/100\n",
      "44/44 [==============================] - 0s 579us/step - loss: 0.5364 - accuracy: 0.7279 - auc: 0.7112 - val_loss: 1.0704 - val_accuracy: 0.0800 - val_auc: 0.0000e+00\n",
      "Epoch 89/100\n",
      "44/44 [==============================] - 0s 578us/step - loss: 0.5354 - accuracy: 0.7214 - auc: 0.7121 - val_loss: 1.0578 - val_accuracy: 0.0583 - val_auc: 0.0000e+00\n",
      "Epoch 90/100\n",
      "44/44 [==============================] - 0s 573us/step - loss: 0.5253 - accuracy: 0.7250 - auc: 0.7297 - val_loss: 1.0875 - val_accuracy: 0.0700 - val_auc: 0.0000e+00\n",
      "Epoch 91/100\n"
     ]
    },
    {
     "name": "stdout",
     "output_type": "stream",
     "text": [
      "44/44 [==============================] - 0s 571us/step - loss: 0.5188 - accuracy: 0.7336 - auc: 0.7475 - val_loss: 1.0675 - val_accuracy: 0.0800 - val_auc: 0.0000e+00\n",
      "Epoch 92/100\n",
      "44/44 [==============================] - 0s 575us/step - loss: 0.5238 - accuracy: 0.7371 - auc: 0.7382 - val_loss: 1.0442 - val_accuracy: 0.0867 - val_auc: 0.0000e+00\n",
      "Epoch 93/100\n",
      "44/44 [==============================] - 0s 580us/step - loss: 0.5275 - accuracy: 0.7257 - auc: 0.7318 - val_loss: 1.0419 - val_accuracy: 0.0850 - val_auc: 0.0000e+00\n",
      "Epoch 94/100\n",
      "44/44 [==============================] - 0s 581us/step - loss: 0.5244 - accuracy: 0.7193 - auc: 0.7346 - val_loss: 1.0813 - val_accuracy: 0.0750 - val_auc: 0.0000e+00\n",
      "Epoch 95/100\n",
      "44/44 [==============================] - 0s 575us/step - loss: 0.5213 - accuracy: 0.7264 - auc: 0.7387 - val_loss: 1.0563 - val_accuracy: 0.0917 - val_auc: 0.0000e+00\n",
      "Epoch 96/100\n",
      "44/44 [==============================] - 0s 575us/step - loss: 0.5337 - accuracy: 0.7250 - auc: 0.7237 - val_loss: 1.0357 - val_accuracy: 0.0700 - val_auc: 0.0000e+00\n",
      "Epoch 97/100\n",
      "44/44 [==============================] - 0s 574us/step - loss: 0.5264 - accuracy: 0.7279 - auc: 0.7325 - val_loss: 1.0117 - val_accuracy: 0.0667 - val_auc: 0.0000e+00\n",
      "Epoch 98/100\n",
      "44/44 [==============================] - 0s 576us/step - loss: 0.5280 - accuracy: 0.7279 - auc: 0.7295 - val_loss: 1.0588 - val_accuracy: 0.0733 - val_auc: 0.0000e+00\n",
      "Epoch 99/100\n",
      "44/44 [==============================] - 0s 578us/step - loss: 0.5287 - accuracy: 0.7243 - auc: 0.7250 - val_loss: 1.0124 - val_accuracy: 0.0750 - val_auc: 0.0000e+00\n",
      "Epoch 100/100\n",
      "44/44 [==============================] - 0s 581us/step - loss: 0.5256 - accuracy: 0.7300 - auc: 0.7341 - val_loss: 1.0583 - val_accuracy: 0.0733 - val_auc: 0.0000e+00\n"
     ]
    }
   ],
   "source": [
    "model_history = model.fit(X_train_std, y_train, epochs=100,\n",
    "                                        batch_size=32, \n",
    "                                        validation_split=0.3, shuffle=True)"
   ]
  },
  {
   "cell_type": "markdown",
   "metadata": {},
   "source": [
    "## Predictions\n",
    "\n",
    "After that we used the predictions  of the  train and test set"
   ]
  },
  {
   "cell_type": "code",
   "execution_count": 20,
   "metadata": {},
   "outputs": [
    {
     "name": "stdout",
     "output_type": "stream",
     "text": [
      "63/63 [==============================] - 0s 224us/step\n",
      "193/193 [==============================] - 0s 180us/step\n"
     ]
    }
   ],
   "source": [
    "train_pred = model.predict(X_train_std)\n",
    "test_pred = model.predict(X_test_std)"
   ]
  },
  {
   "cell_type": "markdown",
   "metadata": {},
   "source": [
    "to convert the predict values into the classes was designed an condition that looks as "
   ]
  },
  {
   "cell_type": "code",
   "execution_count": 21,
   "metadata": {},
   "outputs": [
    {
     "name": "stdout",
     "output_type": "stream",
     "text": [
      "63/63 [==============================] - 0s 308us/step\n",
      "193/193 [==============================] - 0s 177us/step\n"
     ]
    }
   ],
   "source": [
    "y_train_pred = (model.predict(X_train_std) > 0.5).astype(\"int32\")\n",
    "y_test_pred = (model.predict(X_test_std) > 0.5).astype(\"int32\")"
   ]
  },
  {
   "cell_type": "markdown",
   "metadata": {},
   "source": [
    "### Getting evaluation metrics and evaluating model performance\n",
    "\n",
    "Using different metrics as \n",
    "\n",
    "- accuracy\n",
    "- precision\n",
    "- recall\n",
    "- f1 score\n",
    "- cohen_kappa\n",
    "- roc_auc\n",
    "\n",
    "\n",
    "The results of the train are important to check the F1 score and ROC AUC, they are \n",
    "\n",
    "- F1 score: 0.413999\n",
    "- ROC AUC: 0.606500\n",
    "\n",
    "they are worst with respect the imbalance but good to comapre with a quantum model"
   ]
  },
  {
   "cell_type": "code",
   "execution_count": 22,
   "metadata": {},
   "outputs": [
    {
     "name": "stdout",
     "output_type": "stream",
     "text": [
      "Accuracy: 0.535000\n",
      "Precision: 0.948718\n",
      "Recall: 0.074000\n",
      "F1 score: 0.137291\n",
      "Cohens kappa: 0.070000\n",
      "ROC AUC: 0.535000\n",
      "[[996   4]\n",
      " [926  74]]\n"
     ]
    },
    {
     "data": {
      "image/png": "[encoded data removed]",
      "text/plain": [
       "<Figure size 640x480 with 2 Axes>"
      ]
     },
     "metadata": {},
     "output_type": "display_data"
    }
   ],
   "source": [
    "accuracy = accuracy_score(y_train, y_train_pred)\n",
    "print('Accuracy: %f' % accuracy)\n",
    "# precision tp / (tp + fp)\n",
    "precision = precision_score(y_train, y_train_pred)\n",
    "print('Precision: %f' % precision)\n",
    "# recall: tp / (tp + fn)\n",
    "recall = recall_score(y_train, y_train_pred)\n",
    "print('Recall: %f' % recall)\n",
    "# f1: 2 tp / (2 tp + fp + fn)\n",
    "f1 = f1_score(y_train, y_train_pred)\n",
    "print('F1 score: %f' % f1)\n",
    " \n",
    "# kappa\n",
    "kappa = cohen_kappa_score(y_train, y_train_pred)\n",
    "print('Cohens kappa: %f' % kappa)\n",
    "# ROC AUC\n",
    "auc = roc_auc_score(y_train, y_train_pred)\n",
    "print('ROC AUC: %f' % auc)\n",
    "# confusion matrix\n",
    "train_matrix = confusion_matrix(y_train, y_train_pred)\n",
    "print(train_matrix)\n",
    "ax = sns.heatmap(train_matrix, annot=True, cmap='Blues', fmt='g')\n",
    "\n",
    "ax.set_title('Seaborn Confusion Matrix with labels\\n\\n');\n",
    "ax.set_xlabel('\\nPredicted Values')\n",
    "ax.set_ylabel('Actual Values ');\n",
    "\n",
    "ax.xaxis.set_ticklabels(['0','1'])\n",
    "ax.yaxis.set_ticklabels(['0','1'])\n",
    "\n",
    "## Display the visualization of the Confusion Matrix.\n",
    "plt.show()"
   ]
  },
  {
   "cell_type": "markdown",
   "metadata": {},
   "source": [
    "The results of the test are important to check the F1 score and ROC AUC, they are \n",
    "\n",
    "- F1 score: 0.338028\n",
    "- ROC AUC: 0.598467\n",
    "\n",
    "they are worst with respect the imbalance but good to comapre with a quantum model"
   ]
  },
  {
   "cell_type": "code",
   "execution_count": 23,
   "metadata": {},
   "outputs": [
    {
     "name": "stdout",
     "output_type": "stream",
     "text": [
      "Accuracy: 0.822536\n",
      "Precision: 0.652542\n",
      "Recall: 0.068202\n",
      "F1 score: 0.123496\n",
      "Cohens kappa: 0.091996\n",
      "ROC AUC: 0.530025\n",
      "[[4989   41]\n",
      " [1052   77]]\n"
     ]
    },
    {
     "data": {
      "image/png": "[encoded data removed]",
      "text/plain": [
       "<Figure size 640x480 with 2 Axes>"
      ]
     },
     "metadata": {},
     "output_type": "display_data"
    }
   ],
   "source": [
    "accuracy = accuracy_score(y_test, y_test_pred)\n",
    "print('Accuracy: %f' % accuracy)\n",
    "# precision tp / (tp + fp)\n",
    "precision = precision_score(y_test, y_test_pred)\n",
    "print('Precision: %f' % precision)\n",
    "# recall: tp / (tp + fn)\n",
    "recall = recall_score(y_test, y_test_pred)\n",
    "print('Recall: %f' % recall)\n",
    "# f1: 2 tp / (2 tp + fp + fn)\n",
    "f1 = f1_score(y_test, y_test_pred)\n",
    "print('F1 score: %f' % f1)\n",
    " \n",
    "# kappa\n",
    "kappa = cohen_kappa_score(y_test, y_test_pred)\n",
    "print('Cohens kappa: %f' % kappa)\n",
    "# ROC AUC\n",
    "auc = roc_auc_score(y_test, y_test_pred)\n",
    "print('ROC AUC: %f' % auc)\n",
    "# confusion matrix\n",
    "test_matrix = confusion_matrix(y_test, y_test_pred)\n",
    "print(test_matrix)\n",
    "ax = sns.heatmap(test_matrix, annot=True, cmap='Blues', fmt='g')\n",
    "\n",
    "ax.set_title('Seaborn Confusion Matrix with labels\\n\\n');\n",
    "ax.set_xlabel('\\nPredicted Values')\n",
    "ax.set_ylabel('Actual Values ');\n",
    "\n",
    "ax.xaxis.set_ticklabels(['0','1'])\n",
    "ax.yaxis.set_ticklabels(['0','1'])\n",
    "\n",
    "## Display the visualization of the Confusion Matrix.\n",
    "plt.show()"
   ]
  }
 ],
 "metadata": {
  "kernelspec": {
   "display_name": "Python 3 (ipykernel)",
   "language": "python",
   "name": "python3"
  },
  "language_info": {
   "codemirror_mode": {
    "name": "ipython",
    "version": 3
   },
   "file_extension": ".py",
   "mimetype": "text/x-python",
   "name": "python",
   "nbconvert_exporter": "python",
   "pygments_lexer": "ipython3",
   "version": "3.10.9"
  },
  "toc": {
   "base_numbering": 1,
   "nav_menu": {},
   "number_sections": true,
   "sideBar": true,
   "skip_h1_title": false,
   "title_cell": "Table of Contents",
   "title_sidebar": "Contents",
   "toc_cell": false,
   "toc_position": {},
   "toc_section_display": true,
   "toc_window_display": false
  },
  "varInspector": {
   "cols": {
    "lenName": 16,
    "lenType": 16,
    "lenVar": 40
   },
   "kernels_config": {
    "python": {
     "delete_cmd_postfix": "",
     "delete_cmd_prefix": "del ",
     "library": "var_list.py",
     "varRefreshCmd": "print(var_dic_list())"
    },
    "r": {
     "delete_cmd_postfix": ") ",
     "delete_cmd_prefix": "rm(",
     "library": "var_list.r",
     "varRefreshCmd": "cat(var_dic_list()) "
    }
   },
   "types_to_exclude": [
    "module",
    "function",
    "builtin_function_or_method",
    "instance",
    "_Feature"
   ],
   "window_display": false
  }
 },
 "nbformat": 4,
 "nbformat_minor": 2
}
